{
 "cells": [
  {
   "cell_type": "code",
   "execution_count": 1,
   "metadata": {},
   "outputs": [],
   "source": [
    "import pandas as pd\n",
    "import numpy as np\n",
    "import seaborn as sns\n",
    "import matplotlib.pyplot as plt\n",
    "import warnings\n",
    "warnings.simplefilter(action=\"ignore\")"
   ]
  },
  {
   "cell_type": "markdown",
   "metadata": {},
   "source": [
    "# EDA (TEST DATA)"
   ]
  },
  {
   "cell_type": "code",
   "execution_count": 2,
   "metadata": {},
   "outputs": [
    {
     "data": {
      "text/html": [
       "<div>\n",
       "<style scoped>\n",
       "    .dataframe tbody tr th:only-of-type {\n",
       "        vertical-align: middle;\n",
       "    }\n",
       "\n",
       "    .dataframe tbody tr th {\n",
       "        vertical-align: top;\n",
       "    }\n",
       "\n",
       "    .dataframe thead th {\n",
       "        text-align: right;\n",
       "    }\n",
       "</style>\n",
       "<table border=\"1\" class=\"dataframe\">\n",
       "  <thead>\n",
       "    <tr style=\"text-align: right;\">\n",
       "      <th></th>\n",
       "      <th>id</th>\n",
       "      <th>comment_text</th>\n",
       "    </tr>\n",
       "  </thead>\n",
       "  <tbody>\n",
       "    <tr>\n",
       "      <th>0</th>\n",
       "      <td>00001cee341fdb12</td>\n",
       "      <td>Yo bitch Ja Rule is more succesful then you'll...</td>\n",
       "    </tr>\n",
       "    <tr>\n",
       "      <th>1</th>\n",
       "      <td>0000247867823ef7</td>\n",
       "      <td>== From RfC == \\n\\n The title is fine as it is...</td>\n",
       "    </tr>\n",
       "    <tr>\n",
       "      <th>2</th>\n",
       "      <td>00013b17ad220c46</td>\n",
       "      <td>\" \\n\\n == Sources == \\n\\n * Zawe Ashton on Lap...</td>\n",
       "    </tr>\n",
       "    <tr>\n",
       "      <th>3</th>\n",
       "      <td>00017563c3f7919a</td>\n",
       "      <td>:If you have a look back at the source, the in...</td>\n",
       "    </tr>\n",
       "    <tr>\n",
       "      <th>4</th>\n",
       "      <td>00017695ad8997eb</td>\n",
       "      <td>I don't anonymously edit articles at all.</td>\n",
       "    </tr>\n",
       "    <tr>\n",
       "      <th>...</th>\n",
       "      <td>...</td>\n",
       "      <td>...</td>\n",
       "    </tr>\n",
       "    <tr>\n",
       "      <th>153181</th>\n",
       "      <td>fffcd0960ee309b5</td>\n",
       "      <td>. \\n i totally agree, this stuff is nothing bu...</td>\n",
       "    </tr>\n",
       "    <tr>\n",
       "      <th>153182</th>\n",
       "      <td>fffd7a9a6eb32c16</td>\n",
       "      <td>== Throw from out field to home plate. == \\n\\n...</td>\n",
       "    </tr>\n",
       "    <tr>\n",
       "      <th>153183</th>\n",
       "      <td>fffda9e8d6fafa9e</td>\n",
       "      <td>\" \\n\\n == Okinotorishima categories == \\n\\n I ...</td>\n",
       "    </tr>\n",
       "    <tr>\n",
       "      <th>153184</th>\n",
       "      <td>fffe8f1340a79fc2</td>\n",
       "      <td>\" \\n\\n == \"\"One of the founding nations of the...</td>\n",
       "    </tr>\n",
       "    <tr>\n",
       "      <th>153185</th>\n",
       "      <td>ffffce3fb183ee80</td>\n",
       "      <td>\" \\n :::Stop already. Your bullshit is not wel...</td>\n",
       "    </tr>\n",
       "  </tbody>\n",
       "</table>\n",
       "<p>153186 rows × 2 columns</p>\n",
       "</div>"
      ],
      "text/plain": [
       "                      id                                       comment_text\n",
       "0       00001cee341fdb12  Yo bitch Ja Rule is more succesful then you'll...\n",
       "1       0000247867823ef7  == From RfC == \\n\\n The title is fine as it is...\n",
       "2       00013b17ad220c46  \" \\n\\n == Sources == \\n\\n * Zawe Ashton on Lap...\n",
       "3       00017563c3f7919a  :If you have a look back at the source, the in...\n",
       "4       00017695ad8997eb          I don't anonymously edit articles at all.\n",
       "...                  ...                                                ...\n",
       "153181  fffcd0960ee309b5  . \\n i totally agree, this stuff is nothing bu...\n",
       "153182  fffd7a9a6eb32c16  == Throw from out field to home plate. == \\n\\n...\n",
       "153183  fffda9e8d6fafa9e  \" \\n\\n == Okinotorishima categories == \\n\\n I ...\n",
       "153184  fffe8f1340a79fc2  \" \\n\\n == \"\"One of the founding nations of the...\n",
       "153185  ffffce3fb183ee80  \" \\n :::Stop already. Your bullshit is not wel...\n",
       "\n",
       "[153186 rows x 2 columns]"
      ]
     },
     "execution_count": 2,
     "metadata": {},
     "output_type": "execute_result"
    }
   ],
   "source": [
    "#importing the test dataset\n",
    "test_data = pd.read_csv(\"testComment.csv\",sep='\\t')\n",
    "test_data"
   ]
  },
  {
   "cell_type": "code",
   "execution_count": 3,
   "metadata": {},
   "outputs": [
    {
     "data": {
      "text/plain": [
       "Index(['id', 'comment_text'], dtype='object')"
      ]
     },
     "execution_count": 3,
     "metadata": {},
     "output_type": "execute_result"
    }
   ],
   "source": [
    "test_data.columns  # checking columns of test dataset"
   ]
  },
  {
   "cell_type": "code",
   "execution_count": 4,
   "metadata": {},
   "outputs": [
    {
     "data": {
      "text/plain": [
       "(153186, 2)"
      ]
     },
     "execution_count": 4,
     "metadata": {},
     "output_type": "execute_result"
    }
   ],
   "source": [
    "test_data.shape  # checking the rows and cols count"
   ]
  },
  {
   "cell_type": "code",
   "execution_count": 5,
   "metadata": {},
   "outputs": [
    {
     "data": {
      "text/plain": [
       "id              object\n",
       "comment_text    object\n",
       "dtype: object"
      ]
     },
     "execution_count": 5,
     "metadata": {},
     "output_type": "execute_result"
    }
   ],
   "source": [
    "test_data.dtypes   # checking the datatypes of cols"
   ]
  },
  {
   "cell_type": "code",
   "execution_count": 6,
   "metadata": {},
   "outputs": [
    {
     "name": "stdout",
     "output_type": "stream",
     "text": [
      "<class 'pandas.core.frame.DataFrame'>\n",
      "RangeIndex: 153186 entries, 0 to 153185\n",
      "Data columns (total 2 columns):\n",
      " #   Column        Non-Null Count   Dtype \n",
      "---  ------        --------------   ----- \n",
      " 0   id            153186 non-null  object\n",
      " 1   comment_text  153157 non-null  object\n",
      "dtypes: object(2)\n",
      "memory usage: 2.3+ MB\n"
     ]
    }
   ],
   "source": [
    "# checking the information about the not-null, datatypes, rows and cols count of the dataset\n",
    "test_data.info()"
   ]
  },
  {
   "cell_type": "code",
   "execution_count": 7,
   "metadata": {},
   "outputs": [
    {
     "data": {
      "text/html": [
       "<div>\n",
       "<style scoped>\n",
       "    .dataframe tbody tr th:only-of-type {\n",
       "        vertical-align: middle;\n",
       "    }\n",
       "\n",
       "    .dataframe tbody tr th {\n",
       "        vertical-align: top;\n",
       "    }\n",
       "\n",
       "    .dataframe thead th {\n",
       "        text-align: right;\n",
       "    }\n",
       "</style>\n",
       "<table border=\"1\" class=\"dataframe\">\n",
       "  <thead>\n",
       "    <tr style=\"text-align: right;\">\n",
       "      <th></th>\n",
       "      <th>id</th>\n",
       "      <th>comment_text</th>\n",
       "    </tr>\n",
       "  </thead>\n",
       "  <tbody>\n",
       "    <tr>\n",
       "      <th>0</th>\n",
       "      <td>False</td>\n",
       "      <td>False</td>\n",
       "    </tr>\n",
       "    <tr>\n",
       "      <th>1</th>\n",
       "      <td>False</td>\n",
       "      <td>False</td>\n",
       "    </tr>\n",
       "    <tr>\n",
       "      <th>2</th>\n",
       "      <td>False</td>\n",
       "      <td>False</td>\n",
       "    </tr>\n",
       "    <tr>\n",
       "      <th>3</th>\n",
       "      <td>False</td>\n",
       "      <td>False</td>\n",
       "    </tr>\n",
       "    <tr>\n",
       "      <th>4</th>\n",
       "      <td>False</td>\n",
       "      <td>False</td>\n",
       "    </tr>\n",
       "    <tr>\n",
       "      <th>...</th>\n",
       "      <td>...</td>\n",
       "      <td>...</td>\n",
       "    </tr>\n",
       "    <tr>\n",
       "      <th>153181</th>\n",
       "      <td>False</td>\n",
       "      <td>False</td>\n",
       "    </tr>\n",
       "    <tr>\n",
       "      <th>153182</th>\n",
       "      <td>False</td>\n",
       "      <td>False</td>\n",
       "    </tr>\n",
       "    <tr>\n",
       "      <th>153183</th>\n",
       "      <td>False</td>\n",
       "      <td>False</td>\n",
       "    </tr>\n",
       "    <tr>\n",
       "      <th>153184</th>\n",
       "      <td>False</td>\n",
       "      <td>False</td>\n",
       "    </tr>\n",
       "    <tr>\n",
       "      <th>153185</th>\n",
       "      <td>False</td>\n",
       "      <td>False</td>\n",
       "    </tr>\n",
       "  </tbody>\n",
       "</table>\n",
       "<p>153186 rows × 2 columns</p>\n",
       "</div>"
      ],
      "text/plain": [
       "           id  comment_text\n",
       "0       False         False\n",
       "1       False         False\n",
       "2       False         False\n",
       "3       False         False\n",
       "4       False         False\n",
       "...       ...           ...\n",
       "153181  False         False\n",
       "153182  False         False\n",
       "153183  False         False\n",
       "153184  False         False\n",
       "153185  False         False\n",
       "\n",
       "[153186 rows x 2 columns]"
      ]
     },
     "execution_count": 7,
     "metadata": {},
     "output_type": "execute_result"
    }
   ],
   "source": [
    "test_data.isnull() # checking for any null values"
   ]
  },
  {
   "cell_type": "code",
   "execution_count": 8,
   "metadata": {},
   "outputs": [
    {
     "data": {
      "text/plain": [
       "id               0\n",
       "comment_text    29\n",
       "dtype: int64"
      ]
     },
     "execution_count": 8,
     "metadata": {},
     "output_type": "execute_result"
    }
   ],
   "source": [
    "test_data.isnull().sum() # null  values column wise counts"
   ]
  },
  {
   "cell_type": "code",
   "execution_count": 9,
   "metadata": {},
   "outputs": [
    {
     "data": {
      "text/plain": [
       "<AxesSubplot:>"
      ]
     },
     "execution_count": 9,
     "metadata": {},
     "output_type": "execute_result"
    },
    {
     "data": {
      "image/png": "[encoded data removed]",
      "text/plain": [
       "<Figure size 432x288 with 2 Axes>"
      ]
     },
     "metadata": {
      "needs_background": "light"
     },
     "output_type": "display_data"
    }
   ],
   "source": [
    "sns.heatmap(test_data.isnull())"
   ]
  },
  {
   "cell_type": "code",
   "execution_count": 10,
   "metadata": {},
   "outputs": [
    {
     "data": {
      "text/html": [
       "<div>\n",
       "<style scoped>\n",
       "    .dataframe tbody tr th:only-of-type {\n",
       "        vertical-align: middle;\n",
       "    }\n",
       "\n",
       "    .dataframe tbody tr th {\n",
       "        vertical-align: top;\n",
       "    }\n",
       "\n",
       "    .dataframe thead th {\n",
       "        text-align: right;\n",
       "    }\n",
       "</style>\n",
       "<table border=\"1\" class=\"dataframe\">\n",
       "  <thead>\n",
       "    <tr style=\"text-align: right;\">\n",
       "      <th></th>\n",
       "      <th>id</th>\n",
       "      <th>comment_text</th>\n",
       "    </tr>\n",
       "  </thead>\n",
       "  <tbody>\n",
       "    <tr>\n",
       "      <th>0</th>\n",
       "      <td>00001cee341fdb12</td>\n",
       "      <td>Yo bitch Ja Rule is more succesful then you'll...</td>\n",
       "    </tr>\n",
       "    <tr>\n",
       "      <th>1</th>\n",
       "      <td>0000247867823ef7</td>\n",
       "      <td>== From RfC == \\n\\n The title is fine as it is...</td>\n",
       "    </tr>\n",
       "    <tr>\n",
       "      <th>2</th>\n",
       "      <td>00013b17ad220c46</td>\n",
       "      <td>\" \\n\\n == Sources == \\n\\n * Zawe Ashton on Lap...</td>\n",
       "    </tr>\n",
       "    <tr>\n",
       "      <th>3</th>\n",
       "      <td>00017563c3f7919a</td>\n",
       "      <td>:If you have a look back at the source, the in...</td>\n",
       "    </tr>\n",
       "    <tr>\n",
       "      <th>4</th>\n",
       "      <td>00017695ad8997eb</td>\n",
       "      <td>I don't anonymously edit articles at all.</td>\n",
       "    </tr>\n",
       "    <tr>\n",
       "      <th>...</th>\n",
       "      <td>...</td>\n",
       "      <td>...</td>\n",
       "    </tr>\n",
       "    <tr>\n",
       "      <th>153181</th>\n",
       "      <td>fffcd0960ee309b5</td>\n",
       "      <td>. \\n i totally agree, this stuff is nothing bu...</td>\n",
       "    </tr>\n",
       "    <tr>\n",
       "      <th>153182</th>\n",
       "      <td>fffd7a9a6eb32c16</td>\n",
       "      <td>== Throw from out field to home plate. == \\n\\n...</td>\n",
       "    </tr>\n",
       "    <tr>\n",
       "      <th>153183</th>\n",
       "      <td>fffda9e8d6fafa9e</td>\n",
       "      <td>\" \\n\\n == Okinotorishima categories == \\n\\n I ...</td>\n",
       "    </tr>\n",
       "    <tr>\n",
       "      <th>153184</th>\n",
       "      <td>fffe8f1340a79fc2</td>\n",
       "      <td>\" \\n\\n == \"\"One of the founding nations of the...</td>\n",
       "    </tr>\n",
       "    <tr>\n",
       "      <th>153185</th>\n",
       "      <td>ffffce3fb183ee80</td>\n",
       "      <td>\" \\n :::Stop already. Your bullshit is not wel...</td>\n",
       "    </tr>\n",
       "  </tbody>\n",
       "</table>\n",
       "<p>153157 rows × 2 columns</p>\n",
       "</div>"
      ],
      "text/plain": [
       "                      id                                       comment_text\n",
       "0       00001cee341fdb12  Yo bitch Ja Rule is more succesful then you'll...\n",
       "1       0000247867823ef7  == From RfC == \\n\\n The title is fine as it is...\n",
       "2       00013b17ad220c46  \" \\n\\n == Sources == \\n\\n * Zawe Ashton on Lap...\n",
       "3       00017563c3f7919a  :If you have a look back at the source, the in...\n",
       "4       00017695ad8997eb          I don't anonymously edit articles at all.\n",
       "...                  ...                                                ...\n",
       "153181  fffcd0960ee309b5  . \\n i totally agree, this stuff is nothing bu...\n",
       "153182  fffd7a9a6eb32c16  == Throw from out field to home plate. == \\n\\n...\n",
       "153183  fffda9e8d6fafa9e  \" \\n\\n == Okinotorishima categories == \\n\\n I ...\n",
       "153184  fffe8f1340a79fc2  \" \\n\\n == \"\"One of the founding nations of the...\n",
       "153185  ffffce3fb183ee80  \" \\n :::Stop already. Your bullshit is not wel...\n",
       "\n",
       "[153157 rows x 2 columns]"
      ]
     },
     "execution_count": 10,
     "metadata": {},
     "output_type": "execute_result"
    }
   ],
   "source": [
    "# dropping rows having null values\n",
    "test_data=test_data.dropna()\n",
    "test_data"
   ]
  },
  {
   "cell_type": "markdown",
   "metadata": {},
   "source": [
    "## Data Preprocessing"
   ]
  },
  {
   "cell_type": "code",
   "execution_count": 11,
   "metadata": {},
   "outputs": [],
   "source": [
    "import re\n",
    "import nltk\n",
    "from nltk.tokenize import word_tokenize\n",
    "from nltk.corpus import stopwords\n",
    "from nltk.stem import WordNetLemmatizer"
   ]
  },
  {
   "cell_type": "code",
   "execution_count": 12,
   "metadata": {},
   "outputs": [],
   "source": [
    "stop_words=set(stopwords.words('english'))\n",
    "lemma=WordNetLemmatizer()"
   ]
  },
  {
   "cell_type": "code",
   "execution_count": 13,
   "metadata": {},
   "outputs": [],
   "source": [
    "# function to do all preprocessing on comments\n",
    "def clean_comment(comments_text):\n",
    "    comments_text=re.sub(r'http\\$+','',comments_text) # removing the url\n",
    "    comments_text=re.sub('[^a-zA-Z]',' ',comments_text) #removing Numbers and punctuation\n",
    "    comments_text=str(comments_text).lower().replace('\\\\','').replace('_',' ') #converting all to lower case\n",
    "    comments_text=word_tokenize(comments_text) #tokenization\n",
    "    comments_text=[item for item in comments_text if item not in stop_words] # removing stop words\n",
    "    comments_text=[lemma.lemmatize(word=w,pos='v') for w in comments_text] #lemmatization\n",
    "    comments_text=[i for i in comments_text if len(i)>=2] # removing the words having length <2\n",
    "    return comments_text"
   ]
  },
  {
   "cell_type": "code",
   "execution_count": 14,
   "metadata": {},
   "outputs": [],
   "source": [
    "test_data['comment_text']=test_data[\"comment_text\"].apply(lambda x:clean_comment(x)) # preprocessing the comments for further data modelling "
   ]
  },
  {
   "cell_type": "code",
   "execution_count": 15,
   "metadata": {},
   "outputs": [
    {
     "data": {
      "text/html": [
       "<div>\n",
       "<style scoped>\n",
       "    .dataframe tbody tr th:only-of-type {\n",
       "        vertical-align: middle;\n",
       "    }\n",
       "\n",
       "    .dataframe tbody tr th {\n",
       "        vertical-align: top;\n",
       "    }\n",
       "\n",
       "    .dataframe thead th {\n",
       "        text-align: right;\n",
       "    }\n",
       "</style>\n",
       "<table border=\"1\" class=\"dataframe\">\n",
       "  <thead>\n",
       "    <tr style=\"text-align: right;\">\n",
       "      <th></th>\n",
       "      <th>id</th>\n",
       "      <th>comment_text</th>\n",
       "    </tr>\n",
       "  </thead>\n",
       "  <tbody>\n",
       "    <tr>\n",
       "      <th>0</th>\n",
       "      <td>00001cee341fdb12</td>\n",
       "      <td>yo bitch ja rule succesful ever whats hat sad ...</td>\n",
       "    </tr>\n",
       "    <tr>\n",
       "      <th>1</th>\n",
       "      <td>0000247867823ef7</td>\n",
       "      <td>rfc title fine imo</td>\n",
       "    </tr>\n",
       "    <tr>\n",
       "      <th>2</th>\n",
       "      <td>00013b17ad220c46</td>\n",
       "      <td>source zawe ashton lapland</td>\n",
       "    </tr>\n",
       "    <tr>\n",
       "      <th>3</th>\n",
       "      <td>00017563c3f7919a</td>\n",
       "      <td>look back source information update correct fo...</td>\n",
       "    </tr>\n",
       "    <tr>\n",
       "      <th>4</th>\n",
       "      <td>00017695ad8997eb</td>\n",
       "      <td>anonymously edit article</td>\n",
       "    </tr>\n",
       "    <tr>\n",
       "      <th>...</th>\n",
       "      <td>...</td>\n",
       "      <td>...</td>\n",
       "    </tr>\n",
       "    <tr>\n",
       "      <th>153181</th>\n",
       "      <td>fffcd0960ee309b5</td>\n",
       "      <td>totally agree stuff nothing long crap</td>\n",
       "    </tr>\n",
       "    <tr>\n",
       "      <th>153182</th>\n",
       "      <td>fffd7a9a6eb32c16</td>\n",
       "      <td>throw field home plate get faster throw cut ma...</td>\n",
       "    </tr>\n",
       "    <tr>\n",
       "      <th>153183</th>\n",
       "      <td>fffda9e8d6fafa9e</td>\n",
       "      <td>okinotorishima categories see change agree cor...</td>\n",
       "    </tr>\n",
       "    <tr>\n",
       "      <th>153184</th>\n",
       "      <td>fffe8f1340a79fc2</td>\n",
       "      <td>one found nations eu germany law return quite ...</td>\n",
       "    </tr>\n",
       "    <tr>\n",
       "      <th>153185</th>\n",
       "      <td>ffffce3fb183ee80</td>\n",
       "      <td>stop already bullshit welcome fool think kind ...</td>\n",
       "    </tr>\n",
       "  </tbody>\n",
       "</table>\n",
       "<p>153157 rows × 2 columns</p>\n",
       "</div>"
      ],
      "text/plain": [
       "                      id                                       comment_text\n",
       "0       00001cee341fdb12  yo bitch ja rule succesful ever whats hat sad ...\n",
       "1       0000247867823ef7                                 rfc title fine imo\n",
       "2       00013b17ad220c46                         source zawe ashton lapland\n",
       "3       00017563c3f7919a  look back source information update correct fo...\n",
       "4       00017695ad8997eb                           anonymously edit article\n",
       "...                  ...                                                ...\n",
       "153181  fffcd0960ee309b5              totally agree stuff nothing long crap\n",
       "153182  fffd7a9a6eb32c16  throw field home plate get faster throw cut ma...\n",
       "153183  fffda9e8d6fafa9e  okinotorishima categories see change agree cor...\n",
       "153184  fffe8f1340a79fc2  one found nations eu germany law return quite ...\n",
       "153185  ffffce3fb183ee80  stop already bullshit welcome fool think kind ...\n",
       "\n",
       "[153157 rows x 2 columns]"
      ]
     },
     "execution_count": 15,
     "metadata": {},
     "output_type": "execute_result"
    }
   ],
   "source": [
    "test_data['comment_text']=[\" \".join(comments_text) for comments_text in test_data['comment_text'].values] # converting list to string\n",
    "test_data # cleaned text"
   ]
  },
  {
   "cell_type": "code",
   "execution_count": 16,
   "metadata": {},
   "outputs": [
    {
     "data": {
      "text/plain": [
       "'yo bitch ja rule succesful ever whats hat sad mofuckas bitch slap ur pethedic white face get kiss ass guy sicken ja rule pride da music man dont diss shit nothin wrong bein like tupac brother fuckin white boys get things right next time'"
      ]
     },
     "execution_count": 16,
     "metadata": {},
     "output_type": "execute_result"
    }
   ],
   "source": [
    "test_data[\"comment_text\"][0] "
   ]
  },
  {
   "cell_type": "code",
   "execution_count": null,
   "metadata": {},
   "outputs": [],
   "source": []
  },
  {
   "cell_type": "markdown",
   "metadata": {},
   "source": [
    "# Data Visualization\n"
   ]
  },
  {
   "cell_type": "code",
   "execution_count": 17,
   "metadata": {},
   "outputs": [],
   "source": [
    "from wordcloud import wordcloud\n",
    "from PIL import Image\n",
    "from wordcloud import WordCloud,STOPWORDS,ImageColorGenerator\n",
    "from nltk.corpus import stopwords"
   ]
  },
  {
   "cell_type": "code",
   "execution_count": 18,
   "metadata": {},
   "outputs": [],
   "source": [
    "def wordcloud(comment_count):\n",
    "    \n",
    "    text=comment_count[\"comment_text\"]\n",
    "    wc=WordCloud(background_color='black',max_words=4000)\n",
    "    \n",
    "    wc.generate(\" \".join(text))\n",
    "    \n",
    "    plt.figure(figsize=(20,20))\n",
    "    plt.subplot(221)\n",
    "    plt.axis(\"off\")\n",
    "    plt.imshow(wc.recolor(colormap='gist_earth',random_state=244),alpha=0.98)"
   ]
  },
  {
   "cell_type": "code",
   "execution_count": 19,
   "metadata": {},
   "outputs": [
    {
     "data": {
      "image/png": "[encoded data removed]",
      "text/plain": [
       "<Figure size 1440x1440 with 1 Axes>"
      ]
     },
     "metadata": {
      "needs_background": "light"
     },
     "output_type": "display_data"
    }
   ],
   "source": [
    "wordcloud(test_data) # displaying the use of few words through Word Cloud"
   ]
  },
  {
   "cell_type": "markdown",
   "metadata": {},
   "source": [
    "## Above wordcloud shows the words  used in test data. "
   ]
  },
  {
   "cell_type": "markdown",
   "metadata": {},
   "source": [
    "# EDA on train data"
   ]
  },
  {
   "cell_type": "code",
   "execution_count": 20,
   "metadata": {},
   "outputs": [
    {
     "data": {
      "text/html": [
       "<div>\n",
       "<style scoped>\n",
       "    .dataframe tbody tr th:only-of-type {\n",
       "        vertical-align: middle;\n",
       "    }\n",
       "\n",
       "    .dataframe tbody tr th {\n",
       "        vertical-align: top;\n",
       "    }\n",
       "\n",
       "    .dataframe thead th {\n",
       "        text-align: right;\n",
       "    }\n",
       "</style>\n",
       "<table border=\"1\" class=\"dataframe\">\n",
       "  <thead>\n",
       "    <tr style=\"text-align: right;\">\n",
       "      <th></th>\n",
       "      <th>id</th>\n",
       "      <th>comment_text</th>\n",
       "      <th>malignant</th>\n",
       "      <th>highly_malignant</th>\n",
       "      <th>rude</th>\n",
       "      <th>threat</th>\n",
       "      <th>abuse</th>\n",
       "      <th>loathe</th>\n",
       "    </tr>\n",
       "  </thead>\n",
       "  <tbody>\n",
       "    <tr>\n",
       "      <th>0</th>\n",
       "      <td>0000997932d777bf</td>\n",
       "      <td>Explanation\\nWhy the edits made under my usern...</td>\n",
       "      <td>0.0</td>\n",
       "      <td>0.0</td>\n",
       "      <td>0.0</td>\n",
       "      <td>0.0</td>\n",
       "      <td>0.0</td>\n",
       "      <td>0.0</td>\n",
       "    </tr>\n",
       "    <tr>\n",
       "      <th>1</th>\n",
       "      <td>000103f0d9cfb60f</td>\n",
       "      <td>D'aww! He matches this background colour I'm s...</td>\n",
       "      <td>0.0</td>\n",
       "      <td>0.0</td>\n",
       "      <td>0.0</td>\n",
       "      <td>0.0</td>\n",
       "      <td>0.0</td>\n",
       "      <td>0.0</td>\n",
       "    </tr>\n",
       "    <tr>\n",
       "      <th>2</th>\n",
       "      <td>000113f07ec002fd</td>\n",
       "      <td>Hey man, I'm really not trying to edit war. It...</td>\n",
       "      <td>0.0</td>\n",
       "      <td>0.0</td>\n",
       "      <td>0.0</td>\n",
       "      <td>0.0</td>\n",
       "      <td>0.0</td>\n",
       "      <td>0.0</td>\n",
       "    </tr>\n",
       "    <tr>\n",
       "      <th>3</th>\n",
       "      <td>0001b41b1c6bb37e</td>\n",
       "      <td>\"\\nMore\\nI can't make any real suggestions on ...</td>\n",
       "      <td>0.0</td>\n",
       "      <td>0.0</td>\n",
       "      <td>0.0</td>\n",
       "      <td>0.0</td>\n",
       "      <td>0.0</td>\n",
       "      <td>0.0</td>\n",
       "    </tr>\n",
       "    <tr>\n",
       "      <th>4</th>\n",
       "      <td>0001d958c54c6e35</td>\n",
       "      <td>You, sir, are my hero. Any chance you remember...</td>\n",
       "      <td>0.0</td>\n",
       "      <td>0.0</td>\n",
       "      <td>0.0</td>\n",
       "      <td>0.0</td>\n",
       "      <td>0.0</td>\n",
       "      <td>0.0</td>\n",
       "    </tr>\n",
       "    <tr>\n",
       "      <th>...</th>\n",
       "      <td>...</td>\n",
       "      <td>...</td>\n",
       "      <td>...</td>\n",
       "      <td>...</td>\n",
       "      <td>...</td>\n",
       "      <td>...</td>\n",
       "      <td>...</td>\n",
       "      <td>...</td>\n",
       "    </tr>\n",
       "    <tr>\n",
       "      <th>159616</th>\n",
       "      <td>ffe987279560d7ff</td>\n",
       "      <td>\":::::And for the second time of asking, when ...</td>\n",
       "      <td>0.0</td>\n",
       "      <td>0.0</td>\n",
       "      <td>0.0</td>\n",
       "      <td>0.0</td>\n",
       "      <td>0.0</td>\n",
       "      <td>0.0</td>\n",
       "    </tr>\n",
       "    <tr>\n",
       "      <th>159617</th>\n",
       "      <td>ffea4adeee384e90</td>\n",
       "      <td>You should be ashamed of yourself \\n\\nThat is ...</td>\n",
       "      <td>0.0</td>\n",
       "      <td>0.0</td>\n",
       "      <td>0.0</td>\n",
       "      <td>0.0</td>\n",
       "      <td>0.0</td>\n",
       "      <td>0.0</td>\n",
       "    </tr>\n",
       "    <tr>\n",
       "      <th>159618</th>\n",
       "      <td>ffee36eab5c267c9</td>\n",
       "      <td>Spitzer \\n\\nUmm, theres no actual article for ...</td>\n",
       "      <td>0.0</td>\n",
       "      <td>0.0</td>\n",
       "      <td>0.0</td>\n",
       "      <td>0.0</td>\n",
       "      <td>0.0</td>\n",
       "      <td>0.0</td>\n",
       "    </tr>\n",
       "    <tr>\n",
       "      <th>159619</th>\n",
       "      <td>fff125370e4aaaf3</td>\n",
       "      <td>And it looks like it was actually you who put ...</td>\n",
       "      <td>0.0</td>\n",
       "      <td>0.0</td>\n",
       "      <td>0.0</td>\n",
       "      <td>0.0</td>\n",
       "      <td>0.0</td>\n",
       "      <td>0.0</td>\n",
       "    </tr>\n",
       "    <tr>\n",
       "      <th>159620</th>\n",
       "      <td>fff46fc426af1f9a</td>\n",
       "      <td>\"\\nAnd ... I really don't think you understand...</td>\n",
       "      <td>0.0</td>\n",
       "      <td>0.0</td>\n",
       "      <td>0.0</td>\n",
       "      <td>0.0</td>\n",
       "      <td>0.0</td>\n",
       "      <td>0.0</td>\n",
       "    </tr>\n",
       "  </tbody>\n",
       "</table>\n",
       "<p>159621 rows × 8 columns</p>\n",
       "</div>"
      ],
      "text/plain": [
       "                      id                                       comment_text  \\\n",
       "0       0000997932d777bf  Explanation\\nWhy the edits made under my usern...   \n",
       "1       000103f0d9cfb60f  D'aww! He matches this background colour I'm s...   \n",
       "2       000113f07ec002fd  Hey man, I'm really not trying to edit war. It...   \n",
       "3       0001b41b1c6bb37e  \"\\nMore\\nI can't make any real suggestions on ...   \n",
       "4       0001d958c54c6e35  You, sir, are my hero. Any chance you remember...   \n",
       "...                  ...                                                ...   \n",
       "159616  ffe987279560d7ff  \":::::And for the second time of asking, when ...   \n",
       "159617  ffea4adeee384e90  You should be ashamed of yourself \\n\\nThat is ...   \n",
       "159618  ffee36eab5c267c9  Spitzer \\n\\nUmm, theres no actual article for ...   \n",
       "159619  fff125370e4aaaf3  And it looks like it was actually you who put ...   \n",
       "159620  fff46fc426af1f9a  \"\\nAnd ... I really don't think you understand...   \n",
       "\n",
       "        malignant  highly_malignant  rude  threat  abuse  loathe  \n",
       "0             0.0               0.0   0.0     0.0    0.0     0.0  \n",
       "1             0.0               0.0   0.0     0.0    0.0     0.0  \n",
       "2             0.0               0.0   0.0     0.0    0.0     0.0  \n",
       "3             0.0               0.0   0.0     0.0    0.0     0.0  \n",
       "4             0.0               0.0   0.0     0.0    0.0     0.0  \n",
       "...           ...               ...   ...     ...    ...     ...  \n",
       "159616        0.0               0.0   0.0     0.0    0.0     0.0  \n",
       "159617        0.0               0.0   0.0     0.0    0.0     0.0  \n",
       "159618        0.0               0.0   0.0     0.0    0.0     0.0  \n",
       "159619        0.0               0.0   0.0     0.0    0.0     0.0  \n",
       "159620        0.0               0.0   0.0     0.0    0.0     0.0  \n",
       "\n",
       "[159621 rows x 8 columns]"
      ]
     },
     "execution_count": 20,
     "metadata": {},
     "output_type": "execute_result"
    }
   ],
   "source": [
    "train_data = pd.read_csv(\"traincomment.csv\",sep='\\t')\n",
    "train_data"
   ]
  },
  {
   "cell_type": "code",
   "execution_count": 21,
   "metadata": {},
   "outputs": [
    {
     "data": {
      "text/plain": [
       "Index(['id', 'comment_text', 'malignant', 'highly_malignant', 'rude', 'threat',\n",
       "       'abuse', 'loathe'],\n",
       "      dtype='object')"
      ]
     },
     "execution_count": 21,
     "metadata": {},
     "output_type": "execute_result"
    }
   ],
   "source": [
    "train_data.columns # checking columns of train dataset\n"
   ]
  },
  {
   "cell_type": "markdown",
   "metadata": {},
   "source": [
    "# EDA"
   ]
  },
  {
   "cell_type": "code",
   "execution_count": 22,
   "metadata": {},
   "outputs": [
    {
     "data": {
      "text/plain": [
       "(159621, 8)"
      ]
     },
     "execution_count": 22,
     "metadata": {},
     "output_type": "execute_result"
    }
   ],
   "source": [
    "train_data.shape  # checking the rows and cols count"
   ]
  },
  {
   "cell_type": "code",
   "execution_count": 23,
   "metadata": {},
   "outputs": [
    {
     "data": {
      "text/plain": [
       "Index(['id', 'comment_text', 'malignant', 'highly_malignant', 'rude', 'threat',\n",
       "       'abuse', 'loathe'],\n",
       "      dtype='object')"
      ]
     },
     "execution_count": 23,
     "metadata": {},
     "output_type": "execute_result"
    }
   ],
   "source": [
    "train_data.columns  # checking the various cols"
   ]
  },
  {
   "cell_type": "code",
   "execution_count": 24,
   "metadata": {},
   "outputs": [
    {
     "data": {
      "text/plain": [
       "id                   object\n",
       "comment_text         object\n",
       "malignant           float64\n",
       "highly_malignant    float64\n",
       "rude                float64\n",
       "threat              float64\n",
       "abuse               float64\n",
       "loathe              float64\n",
       "dtype: object"
      ]
     },
     "execution_count": 24,
     "metadata": {},
     "output_type": "execute_result"
    }
   ],
   "source": [
    "train_data.dtypes   # checking the datatypes of cols"
   ]
  },
  {
   "cell_type": "code",
   "execution_count": 25,
   "metadata": {},
   "outputs": [
    {
     "data": {
      "text/html": [
       "<div>\n",
       "<style scoped>\n",
       "    .dataframe tbody tr th:only-of-type {\n",
       "        vertical-align: middle;\n",
       "    }\n",
       "\n",
       "    .dataframe tbody tr th {\n",
       "        vertical-align: top;\n",
       "    }\n",
       "\n",
       "    .dataframe thead th {\n",
       "        text-align: right;\n",
       "    }\n",
       "</style>\n",
       "<table border=\"1\" class=\"dataframe\">\n",
       "  <thead>\n",
       "    <tr style=\"text-align: right;\">\n",
       "      <th></th>\n",
       "      <th>malignant</th>\n",
       "      <th>highly_malignant</th>\n",
       "      <th>rude</th>\n",
       "      <th>threat</th>\n",
       "      <th>abuse</th>\n",
       "      <th>loathe</th>\n",
       "    </tr>\n",
       "  </thead>\n",
       "  <tbody>\n",
       "    <tr>\n",
       "      <th>count</th>\n",
       "      <td>159528.000000</td>\n",
       "      <td>159528.000000</td>\n",
       "      <td>159528.000000</td>\n",
       "      <td>159528.000000</td>\n",
       "      <td>159528.000000</td>\n",
       "      <td>159509.000000</td>\n",
       "    </tr>\n",
       "    <tr>\n",
       "      <th>mean</th>\n",
       "      <td>0.095839</td>\n",
       "      <td>0.010005</td>\n",
       "      <td>0.052931</td>\n",
       "      <td>0.002996</td>\n",
       "      <td>0.049364</td>\n",
       "      <td>0.008808</td>\n",
       "    </tr>\n",
       "    <tr>\n",
       "      <th>std</th>\n",
       "      <td>0.294371</td>\n",
       "      <td>0.099521</td>\n",
       "      <td>0.223897</td>\n",
       "      <td>0.054657</td>\n",
       "      <td>0.216628</td>\n",
       "      <td>0.093438</td>\n",
       "    </tr>\n",
       "    <tr>\n",
       "      <th>min</th>\n",
       "      <td>0.000000</td>\n",
       "      <td>0.000000</td>\n",
       "      <td>0.000000</td>\n",
       "      <td>0.000000</td>\n",
       "      <td>0.000000</td>\n",
       "      <td>0.000000</td>\n",
       "    </tr>\n",
       "    <tr>\n",
       "      <th>25%</th>\n",
       "      <td>0.000000</td>\n",
       "      <td>0.000000</td>\n",
       "      <td>0.000000</td>\n",
       "      <td>0.000000</td>\n",
       "      <td>0.000000</td>\n",
       "      <td>0.000000</td>\n",
       "    </tr>\n",
       "    <tr>\n",
       "      <th>50%</th>\n",
       "      <td>0.000000</td>\n",
       "      <td>0.000000</td>\n",
       "      <td>0.000000</td>\n",
       "      <td>0.000000</td>\n",
       "      <td>0.000000</td>\n",
       "      <td>0.000000</td>\n",
       "    </tr>\n",
       "    <tr>\n",
       "      <th>75%</th>\n",
       "      <td>0.000000</td>\n",
       "      <td>0.000000</td>\n",
       "      <td>0.000000</td>\n",
       "      <td>0.000000</td>\n",
       "      <td>0.000000</td>\n",
       "      <td>0.000000</td>\n",
       "    </tr>\n",
       "    <tr>\n",
       "      <th>max</th>\n",
       "      <td>1.000000</td>\n",
       "      <td>1.000000</td>\n",
       "      <td>1.000000</td>\n",
       "      <td>1.000000</td>\n",
       "      <td>1.000000</td>\n",
       "      <td>1.000000</td>\n",
       "    </tr>\n",
       "  </tbody>\n",
       "</table>\n",
       "</div>"
      ],
      "text/plain": [
       "           malignant  highly_malignant           rude         threat  \\\n",
       "count  159528.000000     159528.000000  159528.000000  159528.000000   \n",
       "mean        0.095839          0.010005       0.052931       0.002996   \n",
       "std         0.294371          0.099521       0.223897       0.054657   \n",
       "min         0.000000          0.000000       0.000000       0.000000   \n",
       "25%         0.000000          0.000000       0.000000       0.000000   \n",
       "50%         0.000000          0.000000       0.000000       0.000000   \n",
       "75%         0.000000          0.000000       0.000000       0.000000   \n",
       "max         1.000000          1.000000       1.000000       1.000000   \n",
       "\n",
       "               abuse         loathe  \n",
       "count  159528.000000  159509.000000  \n",
       "mean        0.049364       0.008808  \n",
       "std         0.216628       0.093438  \n",
       "min         0.000000       0.000000  \n",
       "25%         0.000000       0.000000  \n",
       "50%         0.000000       0.000000  \n",
       "75%         0.000000       0.000000  \n",
       "max         1.000000       1.000000  "
      ]
     },
     "execution_count": 25,
     "metadata": {},
     "output_type": "execute_result"
    }
   ],
   "source": [
    "train_data.describe()"
   ]
  },
  {
   "cell_type": "markdown",
   "metadata": {},
   "source": [
    "### Key Observations here\n",
    "\n",
    "#### Count is not same for all values . seems there are some null values"
   ]
  },
  {
   "cell_type": "code",
   "execution_count": 26,
   "metadata": {},
   "outputs": [
    {
     "name": "stdout",
     "output_type": "stream",
     "text": [
      "<class 'pandas.core.frame.DataFrame'>\n",
      "RangeIndex: 159621 entries, 0 to 159620\n",
      "Data columns (total 8 columns):\n",
      " #   Column            Non-Null Count   Dtype  \n",
      "---  ------            --------------   -----  \n",
      " 0   id                159621 non-null  object \n",
      " 1   comment_text      159547 non-null  object \n",
      " 2   malignant         159528 non-null  float64\n",
      " 3   highly_malignant  159528 non-null  float64\n",
      " 4   rude              159528 non-null  float64\n",
      " 5   threat            159528 non-null  float64\n",
      " 6   abuse             159528 non-null  float64\n",
      " 7   loathe            159509 non-null  float64\n",
      "dtypes: float64(6), object(2)\n",
      "memory usage: 9.7+ MB\n"
     ]
    }
   ],
   "source": [
    "# checking the information about the not-null, datatypes, rows and cols count of the dataset\n",
    "train_data.info()"
   ]
  },
  {
   "cell_type": "code",
   "execution_count": 27,
   "metadata": {},
   "outputs": [
    {
     "data": {
      "text/html": [
       "<div>\n",
       "<style scoped>\n",
       "    .dataframe tbody tr th:only-of-type {\n",
       "        vertical-align: middle;\n",
       "    }\n",
       "\n",
       "    .dataframe tbody tr th {\n",
       "        vertical-align: top;\n",
       "    }\n",
       "\n",
       "    .dataframe thead th {\n",
       "        text-align: right;\n",
       "    }\n",
       "</style>\n",
       "<table border=\"1\" class=\"dataframe\">\n",
       "  <thead>\n",
       "    <tr style=\"text-align: right;\">\n",
       "      <th></th>\n",
       "      <th>id</th>\n",
       "      <th>comment_text</th>\n",
       "      <th>malignant</th>\n",
       "      <th>highly_malignant</th>\n",
       "      <th>rude</th>\n",
       "      <th>threat</th>\n",
       "      <th>abuse</th>\n",
       "      <th>loathe</th>\n",
       "    </tr>\n",
       "  </thead>\n",
       "  <tbody>\n",
       "    <tr>\n",
       "      <th>0</th>\n",
       "      <td>False</td>\n",
       "      <td>False</td>\n",
       "      <td>False</td>\n",
       "      <td>False</td>\n",
       "      <td>False</td>\n",
       "      <td>False</td>\n",
       "      <td>False</td>\n",
       "      <td>False</td>\n",
       "    </tr>\n",
       "    <tr>\n",
       "      <th>1</th>\n",
       "      <td>False</td>\n",
       "      <td>False</td>\n",
       "      <td>False</td>\n",
       "      <td>False</td>\n",
       "      <td>False</td>\n",
       "      <td>False</td>\n",
       "      <td>False</td>\n",
       "      <td>False</td>\n",
       "    </tr>\n",
       "    <tr>\n",
       "      <th>2</th>\n",
       "      <td>False</td>\n",
       "      <td>False</td>\n",
       "      <td>False</td>\n",
       "      <td>False</td>\n",
       "      <td>False</td>\n",
       "      <td>False</td>\n",
       "      <td>False</td>\n",
       "      <td>False</td>\n",
       "    </tr>\n",
       "    <tr>\n",
       "      <th>3</th>\n",
       "      <td>False</td>\n",
       "      <td>False</td>\n",
       "      <td>False</td>\n",
       "      <td>False</td>\n",
       "      <td>False</td>\n",
       "      <td>False</td>\n",
       "      <td>False</td>\n",
       "      <td>False</td>\n",
       "    </tr>\n",
       "    <tr>\n",
       "      <th>4</th>\n",
       "      <td>False</td>\n",
       "      <td>False</td>\n",
       "      <td>False</td>\n",
       "      <td>False</td>\n",
       "      <td>False</td>\n",
       "      <td>False</td>\n",
       "      <td>False</td>\n",
       "      <td>False</td>\n",
       "    </tr>\n",
       "    <tr>\n",
       "      <th>...</th>\n",
       "      <td>...</td>\n",
       "      <td>...</td>\n",
       "      <td>...</td>\n",
       "      <td>...</td>\n",
       "      <td>...</td>\n",
       "      <td>...</td>\n",
       "      <td>...</td>\n",
       "      <td>...</td>\n",
       "    </tr>\n",
       "    <tr>\n",
       "      <th>159616</th>\n",
       "      <td>False</td>\n",
       "      <td>False</td>\n",
       "      <td>False</td>\n",
       "      <td>False</td>\n",
       "      <td>False</td>\n",
       "      <td>False</td>\n",
       "      <td>False</td>\n",
       "      <td>False</td>\n",
       "    </tr>\n",
       "    <tr>\n",
       "      <th>159617</th>\n",
       "      <td>False</td>\n",
       "      <td>False</td>\n",
       "      <td>False</td>\n",
       "      <td>False</td>\n",
       "      <td>False</td>\n",
       "      <td>False</td>\n",
       "      <td>False</td>\n",
       "      <td>False</td>\n",
       "    </tr>\n",
       "    <tr>\n",
       "      <th>159618</th>\n",
       "      <td>False</td>\n",
       "      <td>False</td>\n",
       "      <td>False</td>\n",
       "      <td>False</td>\n",
       "      <td>False</td>\n",
       "      <td>False</td>\n",
       "      <td>False</td>\n",
       "      <td>False</td>\n",
       "    </tr>\n",
       "    <tr>\n",
       "      <th>159619</th>\n",
       "      <td>False</td>\n",
       "      <td>False</td>\n",
       "      <td>False</td>\n",
       "      <td>False</td>\n",
       "      <td>False</td>\n",
       "      <td>False</td>\n",
       "      <td>False</td>\n",
       "      <td>False</td>\n",
       "    </tr>\n",
       "    <tr>\n",
       "      <th>159620</th>\n",
       "      <td>False</td>\n",
       "      <td>False</td>\n",
       "      <td>False</td>\n",
       "      <td>False</td>\n",
       "      <td>False</td>\n",
       "      <td>False</td>\n",
       "      <td>False</td>\n",
       "      <td>False</td>\n",
       "    </tr>\n",
       "  </tbody>\n",
       "</table>\n",
       "<p>159621 rows × 8 columns</p>\n",
       "</div>"
      ],
      "text/plain": [
       "           id  comment_text  malignant  highly_malignant   rude  threat  \\\n",
       "0       False         False      False             False  False   False   \n",
       "1       False         False      False             False  False   False   \n",
       "2       False         False      False             False  False   False   \n",
       "3       False         False      False             False  False   False   \n",
       "4       False         False      False             False  False   False   \n",
       "...       ...           ...        ...               ...    ...     ...   \n",
       "159616  False         False      False             False  False   False   \n",
       "159617  False         False      False             False  False   False   \n",
       "159618  False         False      False             False  False   False   \n",
       "159619  False         False      False             False  False   False   \n",
       "159620  False         False      False             False  False   False   \n",
       "\n",
       "        abuse  loathe  \n",
       "0       False   False  \n",
       "1       False   False  \n",
       "2       False   False  \n",
       "3       False   False  \n",
       "4       False   False  \n",
       "...       ...     ...  \n",
       "159616  False   False  \n",
       "159617  False   False  \n",
       "159618  False   False  \n",
       "159619  False   False  \n",
       "159620  False   False  \n",
       "\n",
       "[159621 rows x 8 columns]"
      ]
     },
     "execution_count": 27,
     "metadata": {},
     "output_type": "execute_result"
    }
   ],
   "source": [
    "train_data.isnull() # checking for any null values"
   ]
  },
  {
   "cell_type": "code",
   "execution_count": 28,
   "metadata": {},
   "outputs": [
    {
     "data": {
      "text/plain": [
       "id                    0\n",
       "comment_text         74\n",
       "malignant            93\n",
       "highly_malignant     93\n",
       "rude                 93\n",
       "threat               93\n",
       "abuse                93\n",
       "loathe              112\n",
       "dtype: int64"
      ]
     },
     "execution_count": 28,
     "metadata": {},
     "output_type": "execute_result"
    }
   ],
   "source": [
    "train_data.isnull().sum() # null  values column wise counts"
   ]
  },
  {
   "cell_type": "code",
   "execution_count": 29,
   "metadata": {},
   "outputs": [
    {
     "data": {
      "text/plain": [
       "<AxesSubplot:>"
      ]
     },
     "execution_count": 29,
     "metadata": {},
     "output_type": "execute_result"
    },
    {
     "data": {
      "image/png": "[encoded data removed]",
      "text/plain": [
       "<Figure size 432x288 with 2 Axes>"
      ]
     },
     "metadata": {
      "needs_background": "light"
     },
     "output_type": "display_data"
    }
   ],
   "source": [
    "sns.heatmap(train_data.isnull())"
   ]
  },
  {
   "cell_type": "code",
   "execution_count": 30,
   "metadata": {},
   "outputs": [
    {
     "data": {
      "text/html": [
       "<div>\n",
       "<style scoped>\n",
       "    .dataframe tbody tr th:only-of-type {\n",
       "        vertical-align: middle;\n",
       "    }\n",
       "\n",
       "    .dataframe tbody tr th {\n",
       "        vertical-align: top;\n",
       "    }\n",
       "\n",
       "    .dataframe thead th {\n",
       "        text-align: right;\n",
       "    }\n",
       "</style>\n",
       "<table border=\"1\" class=\"dataframe\">\n",
       "  <thead>\n",
       "    <tr style=\"text-align: right;\">\n",
       "      <th></th>\n",
       "      <th>id</th>\n",
       "      <th>comment_text</th>\n",
       "      <th>malignant</th>\n",
       "      <th>highly_malignant</th>\n",
       "      <th>rude</th>\n",
       "      <th>threat</th>\n",
       "      <th>abuse</th>\n",
       "      <th>loathe</th>\n",
       "    </tr>\n",
       "  </thead>\n",
       "  <tbody>\n",
       "    <tr>\n",
       "      <th>0</th>\n",
       "      <td>0000997932d777bf</td>\n",
       "      <td>Explanation\\nWhy the edits made under my usern...</td>\n",
       "      <td>0.0</td>\n",
       "      <td>0.0</td>\n",
       "      <td>0.0</td>\n",
       "      <td>0.0</td>\n",
       "      <td>0.0</td>\n",
       "      <td>0.0</td>\n",
       "    </tr>\n",
       "    <tr>\n",
       "      <th>1</th>\n",
       "      <td>000103f0d9cfb60f</td>\n",
       "      <td>D'aww! He matches this background colour I'm s...</td>\n",
       "      <td>0.0</td>\n",
       "      <td>0.0</td>\n",
       "      <td>0.0</td>\n",
       "      <td>0.0</td>\n",
       "      <td>0.0</td>\n",
       "      <td>0.0</td>\n",
       "    </tr>\n",
       "    <tr>\n",
       "      <th>2</th>\n",
       "      <td>000113f07ec002fd</td>\n",
       "      <td>Hey man, I'm really not trying to edit war. It...</td>\n",
       "      <td>0.0</td>\n",
       "      <td>0.0</td>\n",
       "      <td>0.0</td>\n",
       "      <td>0.0</td>\n",
       "      <td>0.0</td>\n",
       "      <td>0.0</td>\n",
       "    </tr>\n",
       "    <tr>\n",
       "      <th>3</th>\n",
       "      <td>0001b41b1c6bb37e</td>\n",
       "      <td>\"\\nMore\\nI can't make any real suggestions on ...</td>\n",
       "      <td>0.0</td>\n",
       "      <td>0.0</td>\n",
       "      <td>0.0</td>\n",
       "      <td>0.0</td>\n",
       "      <td>0.0</td>\n",
       "      <td>0.0</td>\n",
       "    </tr>\n",
       "    <tr>\n",
       "      <th>4</th>\n",
       "      <td>0001d958c54c6e35</td>\n",
       "      <td>You, sir, are my hero. Any chance you remember...</td>\n",
       "      <td>0.0</td>\n",
       "      <td>0.0</td>\n",
       "      <td>0.0</td>\n",
       "      <td>0.0</td>\n",
       "      <td>0.0</td>\n",
       "      <td>0.0</td>\n",
       "    </tr>\n",
       "    <tr>\n",
       "      <th>...</th>\n",
       "      <td>...</td>\n",
       "      <td>...</td>\n",
       "      <td>...</td>\n",
       "      <td>...</td>\n",
       "      <td>...</td>\n",
       "      <td>...</td>\n",
       "      <td>...</td>\n",
       "      <td>...</td>\n",
       "    </tr>\n",
       "    <tr>\n",
       "      <th>159616</th>\n",
       "      <td>ffe987279560d7ff</td>\n",
       "      <td>\":::::And for the second time of asking, when ...</td>\n",
       "      <td>0.0</td>\n",
       "      <td>0.0</td>\n",
       "      <td>0.0</td>\n",
       "      <td>0.0</td>\n",
       "      <td>0.0</td>\n",
       "      <td>0.0</td>\n",
       "    </tr>\n",
       "    <tr>\n",
       "      <th>159617</th>\n",
       "      <td>ffea4adeee384e90</td>\n",
       "      <td>You should be ashamed of yourself \\n\\nThat is ...</td>\n",
       "      <td>0.0</td>\n",
       "      <td>0.0</td>\n",
       "      <td>0.0</td>\n",
       "      <td>0.0</td>\n",
       "      <td>0.0</td>\n",
       "      <td>0.0</td>\n",
       "    </tr>\n",
       "    <tr>\n",
       "      <th>159618</th>\n",
       "      <td>ffee36eab5c267c9</td>\n",
       "      <td>Spitzer \\n\\nUmm, theres no actual article for ...</td>\n",
       "      <td>0.0</td>\n",
       "      <td>0.0</td>\n",
       "      <td>0.0</td>\n",
       "      <td>0.0</td>\n",
       "      <td>0.0</td>\n",
       "      <td>0.0</td>\n",
       "    </tr>\n",
       "    <tr>\n",
       "      <th>159619</th>\n",
       "      <td>fff125370e4aaaf3</td>\n",
       "      <td>And it looks like it was actually you who put ...</td>\n",
       "      <td>0.0</td>\n",
       "      <td>0.0</td>\n",
       "      <td>0.0</td>\n",
       "      <td>0.0</td>\n",
       "      <td>0.0</td>\n",
       "      <td>0.0</td>\n",
       "    </tr>\n",
       "    <tr>\n",
       "      <th>159620</th>\n",
       "      <td>fff46fc426af1f9a</td>\n",
       "      <td>\"\\nAnd ... I really don't think you understand...</td>\n",
       "      <td>0.0</td>\n",
       "      <td>0.0</td>\n",
       "      <td>0.0</td>\n",
       "      <td>0.0</td>\n",
       "      <td>0.0</td>\n",
       "      <td>0.0</td>\n",
       "    </tr>\n",
       "  </tbody>\n",
       "</table>\n",
       "<p>159509 rows × 8 columns</p>\n",
       "</div>"
      ],
      "text/plain": [
       "                      id                                       comment_text  \\\n",
       "0       0000997932d777bf  Explanation\\nWhy the edits made under my usern...   \n",
       "1       000103f0d9cfb60f  D'aww! He matches this background colour I'm s...   \n",
       "2       000113f07ec002fd  Hey man, I'm really not trying to edit war. It...   \n",
       "3       0001b41b1c6bb37e  \"\\nMore\\nI can't make any real suggestions on ...   \n",
       "4       0001d958c54c6e35  You, sir, are my hero. Any chance you remember...   \n",
       "...                  ...                                                ...   \n",
       "159616  ffe987279560d7ff  \":::::And for the second time of asking, when ...   \n",
       "159617  ffea4adeee384e90  You should be ashamed of yourself \\n\\nThat is ...   \n",
       "159618  ffee36eab5c267c9  Spitzer \\n\\nUmm, theres no actual article for ...   \n",
       "159619  fff125370e4aaaf3  And it looks like it was actually you who put ...   \n",
       "159620  fff46fc426af1f9a  \"\\nAnd ... I really don't think you understand...   \n",
       "\n",
       "        malignant  highly_malignant  rude  threat  abuse  loathe  \n",
       "0             0.0               0.0   0.0     0.0    0.0     0.0  \n",
       "1             0.0               0.0   0.0     0.0    0.0     0.0  \n",
       "2             0.0               0.0   0.0     0.0    0.0     0.0  \n",
       "3             0.0               0.0   0.0     0.0    0.0     0.0  \n",
       "4             0.0               0.0   0.0     0.0    0.0     0.0  \n",
       "...           ...               ...   ...     ...    ...     ...  \n",
       "159616        0.0               0.0   0.0     0.0    0.0     0.0  \n",
       "159617        0.0               0.0   0.0     0.0    0.0     0.0  \n",
       "159618        0.0               0.0   0.0     0.0    0.0     0.0  \n",
       "159619        0.0               0.0   0.0     0.0    0.0     0.0  \n",
       "159620        0.0               0.0   0.0     0.0    0.0     0.0  \n",
       "\n",
       "[159509 rows x 8 columns]"
      ]
     },
     "execution_count": 30,
     "metadata": {},
     "output_type": "execute_result"
    }
   ],
   "source": [
    "# dropping rows having null values\n",
    "train_data=train_data.dropna(axis=0)\n",
    "train_data"
   ]
  },
  {
   "cell_type": "code",
   "execution_count": 31,
   "metadata": {},
   "outputs": [
    {
     "data": {
      "text/plain": [
       "id                  159509\n",
       "comment_text        159509\n",
       "malignant                2\n",
       "highly_malignant         2\n",
       "rude                     2\n",
       "threat                   2\n",
       "abuse                    2\n",
       "loathe                   2\n",
       "dtype: int64"
      ]
     },
     "execution_count": 31,
     "metadata": {},
     "output_type": "execute_result"
    }
   ],
   "source": [
    "train_data.nunique()"
   ]
  },
  {
   "cell_type": "code",
   "execution_count": 32,
   "metadata": {},
   "outputs": [
    {
     "data": {
      "text/plain": [
       "malignant           15289.0\n",
       "highly_malignant     1594.0\n",
       "rude                 8444.0\n",
       "threat                478.0\n",
       "abuse                7875.0\n",
       "loathe               1405.0\n",
       "dtype: float64"
      ]
     },
     "execution_count": 32,
     "metadata": {},
     "output_type": "execute_result"
    }
   ],
   "source": [
    "comment_count=train_data.iloc[:,2:].sum()\n",
    "comment_count"
   ]
  },
  {
   "cell_type": "markdown",
   "metadata": {},
   "source": [
    "# Data Preprocessing "
   ]
  },
  {
   "cell_type": "code",
   "execution_count": 33,
   "metadata": {},
   "outputs": [],
   "source": [
    "train_data['comment_text']=train_data[\"comment_text\"].apply(lambda x:clean_comment(x)) # preprocessing the comments for further data modelling "
   ]
  },
  {
   "cell_type": "code",
   "execution_count": 34,
   "metadata": {},
   "outputs": [
    {
     "data": {
      "text/html": [
       "<div>\n",
       "<style scoped>\n",
       "    .dataframe tbody tr th:only-of-type {\n",
       "        vertical-align: middle;\n",
       "    }\n",
       "\n",
       "    .dataframe tbody tr th {\n",
       "        vertical-align: top;\n",
       "    }\n",
       "\n",
       "    .dataframe thead th {\n",
       "        text-align: right;\n",
       "    }\n",
       "</style>\n",
       "<table border=\"1\" class=\"dataframe\">\n",
       "  <thead>\n",
       "    <tr style=\"text-align: right;\">\n",
       "      <th></th>\n",
       "      <th>id</th>\n",
       "      <th>comment_text</th>\n",
       "      <th>malignant</th>\n",
       "      <th>highly_malignant</th>\n",
       "      <th>rude</th>\n",
       "      <th>threat</th>\n",
       "      <th>abuse</th>\n",
       "      <th>loathe</th>\n",
       "    </tr>\n",
       "  </thead>\n",
       "  <tbody>\n",
       "    <tr>\n",
       "      <th>0</th>\n",
       "      <td>0000997932d777bf</td>\n",
       "      <td>explanation edit make username hardcore metall...</td>\n",
       "      <td>0.0</td>\n",
       "      <td>0.0</td>\n",
       "      <td>0.0</td>\n",
       "      <td>0.0</td>\n",
       "      <td>0.0</td>\n",
       "      <td>0.0</td>\n",
       "    </tr>\n",
       "    <tr>\n",
       "      <th>1</th>\n",
       "      <td>000103f0d9cfb60f</td>\n",
       "      <td>aww match background colour seemingly stick th...</td>\n",
       "      <td>0.0</td>\n",
       "      <td>0.0</td>\n",
       "      <td>0.0</td>\n",
       "      <td>0.0</td>\n",
       "      <td>0.0</td>\n",
       "      <td>0.0</td>\n",
       "    </tr>\n",
       "    <tr>\n",
       "      <th>2</th>\n",
       "      <td>000113f07ec002fd</td>\n",
       "      <td>hey man really try edit war guy constantly rem...</td>\n",
       "      <td>0.0</td>\n",
       "      <td>0.0</td>\n",
       "      <td>0.0</td>\n",
       "      <td>0.0</td>\n",
       "      <td>0.0</td>\n",
       "      <td>0.0</td>\n",
       "    </tr>\n",
       "    <tr>\n",
       "      <th>3</th>\n",
       "      <td>0001b41b1c6bb37e</td>\n",
       "      <td>make real suggestions improvement wonder secti...</td>\n",
       "      <td>0.0</td>\n",
       "      <td>0.0</td>\n",
       "      <td>0.0</td>\n",
       "      <td>0.0</td>\n",
       "      <td>0.0</td>\n",
       "      <td>0.0</td>\n",
       "    </tr>\n",
       "    <tr>\n",
       "      <th>4</th>\n",
       "      <td>0001d958c54c6e35</td>\n",
       "      <td>sir hero chance remember page</td>\n",
       "      <td>0.0</td>\n",
       "      <td>0.0</td>\n",
       "      <td>0.0</td>\n",
       "      <td>0.0</td>\n",
       "      <td>0.0</td>\n",
       "      <td>0.0</td>\n",
       "    </tr>\n",
       "    <tr>\n",
       "      <th>...</th>\n",
       "      <td>...</td>\n",
       "      <td>...</td>\n",
       "      <td>...</td>\n",
       "      <td>...</td>\n",
       "      <td>...</td>\n",
       "      <td>...</td>\n",
       "      <td>...</td>\n",
       "      <td>...</td>\n",
       "    </tr>\n",
       "    <tr>\n",
       "      <th>159616</th>\n",
       "      <td>ffe987279560d7ff</td>\n",
       "      <td>second time ask view completely contradict cov...</td>\n",
       "      <td>0.0</td>\n",
       "      <td>0.0</td>\n",
       "      <td>0.0</td>\n",
       "      <td>0.0</td>\n",
       "      <td>0.0</td>\n",
       "      <td>0.0</td>\n",
       "    </tr>\n",
       "    <tr>\n",
       "      <th>159617</th>\n",
       "      <td>ffea4adeee384e90</td>\n",
       "      <td>ashamed horrible thing put talk page</td>\n",
       "      <td>0.0</td>\n",
       "      <td>0.0</td>\n",
       "      <td>0.0</td>\n",
       "      <td>0.0</td>\n",
       "      <td>0.0</td>\n",
       "      <td>0.0</td>\n",
       "    </tr>\n",
       "    <tr>\n",
       "      <th>159618</th>\n",
       "      <td>ffee36eab5c267c9</td>\n",
       "      <td>spitzer umm theres actual article prostitution...</td>\n",
       "      <td>0.0</td>\n",
       "      <td>0.0</td>\n",
       "      <td>0.0</td>\n",
       "      <td>0.0</td>\n",
       "      <td>0.0</td>\n",
       "      <td>0.0</td>\n",
       "    </tr>\n",
       "    <tr>\n",
       "      <th>159619</th>\n",
       "      <td>fff125370e4aaaf3</td>\n",
       "      <td>look like actually put speedy first version de...</td>\n",
       "      <td>0.0</td>\n",
       "      <td>0.0</td>\n",
       "      <td>0.0</td>\n",
       "      <td>0.0</td>\n",
       "      <td>0.0</td>\n",
       "      <td>0.0</td>\n",
       "    </tr>\n",
       "    <tr>\n",
       "      <th>159620</th>\n",
       "      <td>fff46fc426af1f9a</td>\n",
       "      <td>really think understand come idea bad right aw...</td>\n",
       "      <td>0.0</td>\n",
       "      <td>0.0</td>\n",
       "      <td>0.0</td>\n",
       "      <td>0.0</td>\n",
       "      <td>0.0</td>\n",
       "      <td>0.0</td>\n",
       "    </tr>\n",
       "  </tbody>\n",
       "</table>\n",
       "<p>159509 rows × 8 columns</p>\n",
       "</div>"
      ],
      "text/plain": [
       "                      id                                       comment_text  \\\n",
       "0       0000997932d777bf  explanation edit make username hardcore metall...   \n",
       "1       000103f0d9cfb60f  aww match background colour seemingly stick th...   \n",
       "2       000113f07ec002fd  hey man really try edit war guy constantly rem...   \n",
       "3       0001b41b1c6bb37e  make real suggestions improvement wonder secti...   \n",
       "4       0001d958c54c6e35                      sir hero chance remember page   \n",
       "...                  ...                                                ...   \n",
       "159616  ffe987279560d7ff  second time ask view completely contradict cov...   \n",
       "159617  ffea4adeee384e90               ashamed horrible thing put talk page   \n",
       "159618  ffee36eab5c267c9  spitzer umm theres actual article prostitution...   \n",
       "159619  fff125370e4aaaf3  look like actually put speedy first version de...   \n",
       "159620  fff46fc426af1f9a  really think understand come idea bad right aw...   \n",
       "\n",
       "        malignant  highly_malignant  rude  threat  abuse  loathe  \n",
       "0             0.0               0.0   0.0     0.0    0.0     0.0  \n",
       "1             0.0               0.0   0.0     0.0    0.0     0.0  \n",
       "2             0.0               0.0   0.0     0.0    0.0     0.0  \n",
       "3             0.0               0.0   0.0     0.0    0.0     0.0  \n",
       "4             0.0               0.0   0.0     0.0    0.0     0.0  \n",
       "...           ...               ...   ...     ...    ...     ...  \n",
       "159616        0.0               0.0   0.0     0.0    0.0     0.0  \n",
       "159617        0.0               0.0   0.0     0.0    0.0     0.0  \n",
       "159618        0.0               0.0   0.0     0.0    0.0     0.0  \n",
       "159619        0.0               0.0   0.0     0.0    0.0     0.0  \n",
       "159620        0.0               0.0   0.0     0.0    0.0     0.0  \n",
       "\n",
       "[159509 rows x 8 columns]"
      ]
     },
     "execution_count": 34,
     "metadata": {},
     "output_type": "execute_result"
    }
   ],
   "source": [
    "train_data['comment_text']=[\" \".join(comments_text) for comments_text in train_data['comment_text'].values] # converting list to string\n",
    "train_data"
   ]
  },
  {
   "cell_type": "code",
   "execution_count": 35,
   "metadata": {},
   "outputs": [
    {
     "data": {
      "text/plain": [
       "'explanation edit make username hardcore metallica fan revert vandalisms closure gas vote new york dolls fac please remove template talk page since retire'"
      ]
     },
     "execution_count": 35,
     "metadata": {},
     "output_type": "execute_result"
    }
   ],
   "source": [
    "train_data[\"comment_text\"][0]"
   ]
  },
  {
   "cell_type": "markdown",
   "metadata": {},
   "source": [
    "## Dividing our dataset into six parts. i.e comment with each class"
   ]
  },
  {
   "cell_type": "code",
   "execution_count": 36,
   "metadata": {},
   "outputs": [
    {
     "data": {
      "text/html": [
       "<div>\n",
       "<style scoped>\n",
       "    .dataframe tbody tr th:only-of-type {\n",
       "        vertical-align: middle;\n",
       "    }\n",
       "\n",
       "    .dataframe tbody tr th {\n",
       "        vertical-align: top;\n",
       "    }\n",
       "\n",
       "    .dataframe thead th {\n",
       "        text-align: right;\n",
       "    }\n",
       "</style>\n",
       "<table border=\"1\" class=\"dataframe\">\n",
       "  <thead>\n",
       "    <tr style=\"text-align: right;\">\n",
       "      <th></th>\n",
       "      <th>id</th>\n",
       "      <th>comment_text</th>\n",
       "      <th>malignant</th>\n",
       "    </tr>\n",
       "  </thead>\n",
       "  <tbody>\n",
       "    <tr>\n",
       "      <th>0</th>\n",
       "      <td>0000997932d777bf</td>\n",
       "      <td>explanation edit make username hardcore metall...</td>\n",
       "      <td>0.0</td>\n",
       "    </tr>\n",
       "    <tr>\n",
       "      <th>1</th>\n",
       "      <td>000103f0d9cfb60f</td>\n",
       "      <td>aww match background colour seemingly stick th...</td>\n",
       "      <td>0.0</td>\n",
       "    </tr>\n",
       "    <tr>\n",
       "      <th>2</th>\n",
       "      <td>000113f07ec002fd</td>\n",
       "      <td>hey man really try edit war guy constantly rem...</td>\n",
       "      <td>0.0</td>\n",
       "    </tr>\n",
       "    <tr>\n",
       "      <th>3</th>\n",
       "      <td>0001b41b1c6bb37e</td>\n",
       "      <td>make real suggestions improvement wonder secti...</td>\n",
       "      <td>0.0</td>\n",
       "    </tr>\n",
       "    <tr>\n",
       "      <th>4</th>\n",
       "      <td>0001d958c54c6e35</td>\n",
       "      <td>sir hero chance remember page</td>\n",
       "      <td>0.0</td>\n",
       "    </tr>\n",
       "    <tr>\n",
       "      <th>...</th>\n",
       "      <td>...</td>\n",
       "      <td>...</td>\n",
       "      <td>...</td>\n",
       "    </tr>\n",
       "    <tr>\n",
       "      <th>159616</th>\n",
       "      <td>ffe987279560d7ff</td>\n",
       "      <td>second time ask view completely contradict cov...</td>\n",
       "      <td>0.0</td>\n",
       "    </tr>\n",
       "    <tr>\n",
       "      <th>159617</th>\n",
       "      <td>ffea4adeee384e90</td>\n",
       "      <td>ashamed horrible thing put talk page</td>\n",
       "      <td>0.0</td>\n",
       "    </tr>\n",
       "    <tr>\n",
       "      <th>159618</th>\n",
       "      <td>ffee36eab5c267c9</td>\n",
       "      <td>spitzer umm theres actual article prostitution...</td>\n",
       "      <td>0.0</td>\n",
       "    </tr>\n",
       "    <tr>\n",
       "      <th>159619</th>\n",
       "      <td>fff125370e4aaaf3</td>\n",
       "      <td>look like actually put speedy first version de...</td>\n",
       "      <td>0.0</td>\n",
       "    </tr>\n",
       "    <tr>\n",
       "      <th>159620</th>\n",
       "      <td>fff46fc426af1f9a</td>\n",
       "      <td>really think understand come idea bad right aw...</td>\n",
       "      <td>0.0</td>\n",
       "    </tr>\n",
       "  </tbody>\n",
       "</table>\n",
       "<p>159509 rows × 3 columns</p>\n",
       "</div>"
      ],
      "text/plain": [
       "                      id                                       comment_text  \\\n",
       "0       0000997932d777bf  explanation edit make username hardcore metall...   \n",
       "1       000103f0d9cfb60f  aww match background colour seemingly stick th...   \n",
       "2       000113f07ec002fd  hey man really try edit war guy constantly rem...   \n",
       "3       0001b41b1c6bb37e  make real suggestions improvement wonder secti...   \n",
       "4       0001d958c54c6e35                      sir hero chance remember page   \n",
       "...                  ...                                                ...   \n",
       "159616  ffe987279560d7ff  second time ask view completely contradict cov...   \n",
       "159617  ffea4adeee384e90               ashamed horrible thing put talk page   \n",
       "159618  ffee36eab5c267c9  spitzer umm theres actual article prostitution...   \n",
       "159619  fff125370e4aaaf3  look like actually put speedy first version de...   \n",
       "159620  fff46fc426af1f9a  really think understand come idea bad right aw...   \n",
       "\n",
       "        malignant  \n",
       "0             0.0  \n",
       "1             0.0  \n",
       "2             0.0  \n",
       "3             0.0  \n",
       "4             0.0  \n",
       "...           ...  \n",
       "159616        0.0  \n",
       "159617        0.0  \n",
       "159618        0.0  \n",
       "159619        0.0  \n",
       "159620        0.0  \n",
       "\n",
       "[159509 rows x 3 columns]"
      ]
     },
     "execution_count": 36,
     "metadata": {},
     "output_type": "execute_result"
    }
   ],
   "source": [
    "malig_data=train_data.loc[:,['id','comment_text','malignant']]\n",
    "malig_data"
   ]
  },
  {
   "cell_type": "code",
   "execution_count": 37,
   "metadata": {},
   "outputs": [],
   "source": [
    "highmalig_data=train_data.loc[:,['id','comment_text','highly_malignant']]"
   ]
  },
  {
   "cell_type": "code",
   "execution_count": 38,
   "metadata": {},
   "outputs": [],
   "source": [
    "#rude, abuse, highly_malignant,loathe,threat\n",
    "rude_data=train_data.loc[:,['id','comment_text','rude']]"
   ]
  },
  {
   "cell_type": "code",
   "execution_count": 39,
   "metadata": {},
   "outputs": [],
   "source": [
    "abuse_data=train_data.loc[:,['id','comment_text','abuse']]"
   ]
  },
  {
   "cell_type": "code",
   "execution_count": 40,
   "metadata": {},
   "outputs": [],
   "source": [
    "loathe_data=train_data.loc[:,['id','comment_text','loathe']]"
   ]
  },
  {
   "cell_type": "code",
   "execution_count": 41,
   "metadata": {},
   "outputs": [],
   "source": [
    "threat_data=train_data.loc[:,['id','comment_text','threat']]"
   ]
  },
  {
   "cell_type": "markdown",
   "metadata": {},
   "source": [
    "# Data Visualization\n",
    "\n",
    "Univariate Analysis\n"
   ]
  },
  {
   "cell_type": "code",
   "execution_count": 42,
   "metadata": {},
   "outputs": [
    {
     "data": {
      "image/png": "[encoded data removed]",
      "text/plain": [
       "<Figure size 576x288 with 1 Axes>"
      ]
     },
     "metadata": {
      "needs_background": "light"
     },
     "output_type": "display_data"
    }
   ],
   "source": [
    "# plotting no. of comments per class\n",
    "plt.figure(figsize=(8,4))\n",
    "ax=sns.barplot(comment_count.index,comment_count.values)\n",
    "\n",
    "plt.title(\"No. of comments per class\")\n",
    "plt.ylabel(\"No. of occurences\")\n",
    "plt.xlabel(\"Type of comments \")\n",
    "\n",
    "plt.show()"
   ]
  },
  {
   "cell_type": "markdown",
   "metadata": {},
   "source": [
    "### Above barplot shows the max comments are concentrated in malignant class followed by rude, abuse, highly_malignant,loathe,threat"
   ]
  },
  {
   "cell_type": "code",
   "execution_count": null,
   "metadata": {},
   "outputs": [],
   "source": []
  },
  {
   "cell_type": "code",
   "execution_count": 43,
   "metadata": {},
   "outputs": [
    {
     "data": {
      "image/png": "[encoded data removed]",
      "text/plain": [
       "<Figure size 1152x504 with 1 Axes>"
      ]
     },
     "metadata": {
      "needs_background": "light"
     },
     "output_type": "display_data"
    }
   ],
   "source": [
    "plt.figure(figsize=(16,7))\n",
    "sns.distplot(train_data[train_data['highly_malignant']==1]['rude'],kde=False,bins=30)\n",
    "plt.title('No of comments which are highly malignant and rude \\n')\n",
    "plt.show()"
   ]
  },
  {
   "cell_type": "markdown",
   "metadata": {},
   "source": [
    "### Above distplot shows very less comments are having both class i.e highly malignant and rude too"
   ]
  },
  {
   "cell_type": "code",
   "execution_count": 44,
   "metadata": {},
   "outputs": [
    {
     "data": {
      "text/plain": [
       "Text(0.5, 0, '# of categories')"
      ]
     },
     "execution_count": 44,
     "metadata": {},
     "output_type": "execute_result"
    },
    {
     "data": {
      "image/png": "[encoded data removed]",
      "text/plain": [
       "<Figure size 576x360 with 1 Axes>"
      ]
     },
     "metadata": {
      "needs_background": "light"
     },
     "output_type": "display_data"
    }
   ],
   "source": [
    "rowsums = train_data.iloc[:,2:].sum(axis=1)\n",
    "x=rowsums.value_counts()\n",
    "#plot\n",
    "plt.figure(figsize=(8,5))\n",
    "ax = sns.barplot(x.index, x.values)\n",
    "plt.title(\"Multiple categories per comment\")\n",
    "plt.ylabel('# of Occurrences', fontsize=12)\n",
    "plt.xlabel('# of categories', fontsize=12)"
   ]
  },
  {
   "cell_type": "code",
   "execution_count": 45,
   "metadata": {},
   "outputs": [],
   "source": [
    "from wordcloud import wordcloud\n",
    "from PIL import Image\n",
    "from wordcloud import WordCloud,STOPWORDS,ImageColorGenerator\n",
    "from nltk.corpus import stopwords\n",
    "from nltk.stem import PorterStemmer"
   ]
  },
  {
   "cell_type": "code",
   "execution_count": 46,
   "metadata": {},
   "outputs": [],
   "source": [
    "def wordcloud(comment_count,label):\n",
    "    # finding classes with malignant comments only \n",
    "    subset=comment_count[comment_count[label]==1]\n",
    "    text=subset.comment_text.values\n",
    "    wc=WordCloud(background_color='black',max_words=4000)\n",
    "    \n",
    "    wc.generate(\" \".join(text))\n",
    "    \n",
    "    plt.figure(figsize=(20,20))\n",
    "    plt.subplot(221)\n",
    "    plt.axis(\"off\")\n",
    "    plt.imshow(wc.recolor(colormap='gist_earth',random_state=244),alpha=0.98)"
   ]
  },
  {
   "cell_type": "code",
   "execution_count": 47,
   "metadata": {},
   "outputs": [
    {
     "data": {
      "image/png": "[encoded data removed]",
      "text/plain": [
       "<Figure size 1440x1440 with 1 Axes>"
      ]
     },
     "metadata": {
      "needs_background": "light"
     },
     "output_type": "display_data"
    }
   ],
   "source": [
    "wordcloud(malig_data,\"malignant\")"
   ]
  },
  {
   "cell_type": "markdown",
   "metadata": {},
   "source": [
    "###  Above wordcloud shows the words frequently used in malignant class. \n",
    "Can see any of the class by changing the class name"
   ]
  },
  {
   "cell_type": "markdown",
   "metadata": {},
   "source": [
    "## Steps to be followed in loop for all the classes \n",
    "\n",
    "#### 1. (TDidF Vectorizer) Encoding text into vectors for further model training\n",
    "#### 2. Pipeline the models with TDidF Vectorizer and OneVsrestClassifier for solving multiclass classification model\n",
    "#### 3. Model Training and metrics representation"
   ]
  },
  {
   "cell_type": "code",
   "execution_count": 49,
   "metadata": {},
   "outputs": [],
   "source": [
    "#importing the model training libraries\n",
    "from sklearn.model_selection import train_test_split\n",
    "from sklearn.naive_bayes import MultinomialNB,BernoulliNB\n",
    "from sklearn.linear_model import LogisticRegression\n",
    "from sklearn.svm import LinearSVC\n",
    "from sklearn.multiclass import OneVsRestClassifier\n",
    "from sklearn.pipeline import Pipeline"
   ]
  },
  {
   "cell_type": "code",
   "execution_count": 50,
   "metadata": {},
   "outputs": [],
   "source": [
    "from sklearn.metrics import f1_score,confusion_matrix,precision_score,recall_score,classification_report\n",
    "import warnings\n",
    "warnings.filterwarnings('ignore')"
   ]
  },
  {
   "cell_type": "code",
   "execution_count": 51,
   "metadata": {},
   "outputs": [],
   "source": [
    "# copying all the classes to use them in iterations\n",
    "classes=[\"malignant\",\"highly_malignant\",\"rude\",\"abuse\",\"threat\",\"loathe\"]\n"
   ]
  },
  {
   "cell_type": "code",
   "execution_count": 52,
   "metadata": {},
   "outputs": [
    {
     "name": "stdout",
     "output_type": "stream",
     "text": [
      "(106871,)\n",
      "(52638,)\n"
     ]
    }
   ],
   "source": [
    "train, test = train_test_split(train_data, random_state=42, test_size=0.33, shuffle=True)\n",
    "X_train = train.comment_text\n",
    "X_test = test.comment_text\n",
    "print(X_train.shape)\n",
    "print(X_test.shape)"
   ]
  },
  {
   "cell_type": "code",
   "execution_count": 70,
   "metadata": {},
   "outputs": [
    {
     "name": "stdout",
     "output_type": "stream",
     "text": [
      "MultinomialNB model performance for malignant with \n",
      "\n",
      "classification report for malignant  comments of model LogisticRegression() is \n",
      "               precision    recall  f1-score   support\n",
      "\n",
      "         0.0       0.96      0.99      0.98     47643\n",
      "         1.0       0.91      0.61      0.73      4995\n",
      "\n",
      "    accuracy                           0.96     52638\n",
      "   macro avg       0.94      0.80      0.85     52638\n",
      "weighted avg       0.96      0.96      0.95     52638\n",
      "\n",
      "**********************************************************************\n",
      "\n",
      "MultinomialNB model performance for malignant with \n",
      "\n",
      "classification report for malignant  comments of model BernoulliNB() is \n",
      "               precision    recall  f1-score   support\n",
      "\n",
      "         0.0       0.98      0.69      0.81     47643\n",
      "         1.0       0.23      0.88      0.36      4995\n",
      "\n",
      "    accuracy                           0.70     52638\n",
      "   macro avg       0.60      0.78      0.58     52638\n",
      "weighted avg       0.91      0.70      0.77     52638\n",
      "\n",
      "**********************************************************************\n",
      "\n",
      "MultinomialNB model performance for malignant with \n",
      "\n",
      "classification report for malignant  comments of model MultinomialNB() is \n",
      "               precision    recall  f1-score   support\n",
      "\n",
      "         0.0       0.95      1.00      0.97     47643\n",
      "         1.0       0.94      0.45      0.61      4995\n",
      "\n",
      "    accuracy                           0.95     52638\n",
      "   macro avg       0.94      0.72      0.79     52638\n",
      "weighted avg       0.94      0.95      0.94     52638\n",
      "\n",
      "**********************************************************************\n",
      "\n",
      "MultinomialNB model performance for malignant with \n",
      "\n",
      "classification report for malignant  comments of model LinearSVC() is \n",
      "               precision    recall  f1-score   support\n",
      "\n",
      "         0.0       0.97      0.99      0.98     47643\n",
      "         1.0       0.86      0.69      0.76      4995\n",
      "\n",
      "    accuracy                           0.96     52638\n",
      "   macro avg       0.91      0.84      0.87     52638\n",
      "weighted avg       0.96      0.96      0.96     52638\n",
      "\n",
      "**********************************************************************\n",
      "\n",
      "MultinomialNB model performance for highly_malignant with \n",
      "\n",
      "classification report for highly_malignant  comments of model LogisticRegression() is \n",
      "               precision    recall  f1-score   support\n",
      "\n",
      "         0.0       0.99      1.00      1.00     52113\n",
      "         1.0       0.54      0.21      0.30       525\n",
      "\n",
      "    accuracy                           0.99     52638\n",
      "   macro avg       0.77      0.60      0.65     52638\n",
      "weighted avg       0.99      0.99      0.99     52638\n",
      "\n",
      "**********************************************************************\n",
      "\n",
      "MultinomialNB model performance for highly_malignant with \n",
      "\n",
      "classification report for highly_malignant  comments of model BernoulliNB() is \n",
      "               precision    recall  f1-score   support\n",
      "\n",
      "         0.0       0.99      0.99      0.99     52113\n",
      "         1.0       0.36      0.44      0.39       525\n",
      "\n",
      "    accuracy                           0.99     52638\n",
      "   macro avg       0.67      0.72      0.69     52638\n",
      "weighted avg       0.99      0.99      0.99     52638\n",
      "\n",
      "**********************************************************************\n",
      "\n",
      "MultinomialNB model performance for highly_malignant with \n",
      "\n",
      "classification report for highly_malignant  comments of model MultinomialNB() is \n",
      "               precision    recall  f1-score   support\n",
      "\n",
      "         0.0       0.99      1.00      1.00     52113\n",
      "         1.0       0.75      0.01      0.01       525\n",
      "\n",
      "    accuracy                           0.99     52638\n",
      "   macro avg       0.87      0.50      0.50     52638\n",
      "weighted avg       0.99      0.99      0.99     52638\n",
      "\n",
      "**********************************************************************\n",
      "\n",
      "MultinomialNB model performance for highly_malignant with \n",
      "\n",
      "classification report for highly_malignant  comments of model LinearSVC() is \n",
      "               precision    recall  f1-score   support\n",
      "\n",
      "         0.0       0.99      1.00      1.00     52113\n",
      "         1.0       0.53      0.27      0.36       525\n",
      "\n",
      "    accuracy                           0.99     52638\n",
      "   macro avg       0.76      0.63      0.68     52638\n",
      "weighted avg       0.99      0.99      0.99     52638\n",
      "\n",
      "**********************************************************************\n",
      "\n",
      "MultinomialNB model performance for rude with \n",
      "\n",
      "classification report for rude  comments of model LogisticRegression() is \n",
      "               precision    recall  f1-score   support\n",
      "\n",
      "         0.0       0.98      1.00      0.99     49856\n",
      "         1.0       0.92      0.64      0.76      2782\n",
      "\n",
      "    accuracy                           0.98     52638\n",
      "   macro avg       0.95      0.82      0.87     52638\n",
      "weighted avg       0.98      0.98      0.98     52638\n",
      "\n",
      "**********************************************************************\n",
      "\n",
      "MultinomialNB model performance for rude with \n",
      "\n",
      "classification report for rude  comments of model BernoulliNB() is \n",
      "               precision    recall  f1-score   support\n",
      "\n",
      "         0.0       0.99      0.75      0.86     49856\n",
      "         1.0       0.17      0.89      0.28      2782\n",
      "\n",
      "    accuracy                           0.76     52638\n",
      "   macro avg       0.58      0.82      0.57     52638\n",
      "weighted avg       0.95      0.76      0.83     52638\n",
      "\n",
      "**********************************************************************\n",
      "\n",
      "MultinomialNB model performance for rude with \n",
      "\n",
      "classification report for rude  comments of model MultinomialNB() is \n",
      "               precision    recall  f1-score   support\n",
      "\n",
      "         0.0       0.97      1.00      0.98     49856\n",
      "         1.0       0.94      0.41      0.57      2782\n",
      "\n",
      "    accuracy                           0.97     52638\n",
      "   macro avg       0.96      0.71      0.78     52638\n",
      "weighted avg       0.97      0.97      0.96     52638\n",
      "\n",
      "**********************************************************************\n",
      "\n",
      "MultinomialNB model performance for rude with \n",
      "\n",
      "classification report for rude  comments of model LinearSVC() is \n",
      "               precision    recall  f1-score   support\n",
      "\n",
      "         0.0       0.98      0.99      0.99     49856\n",
      "         1.0       0.88      0.71      0.79      2782\n",
      "\n",
      "    accuracy                           0.98     52638\n",
      "   macro avg       0.93      0.85      0.89     52638\n",
      "weighted avg       0.98      0.98      0.98     52638\n",
      "\n",
      "**********************************************************************\n",
      "\n",
      "MultinomialNB model performance for abuse with \n",
      "\n",
      "classification report for abuse  comments of model LogisticRegression() is \n",
      "               precision    recall  f1-score   support\n",
      "\n",
      "         0.0       0.97      0.99      0.98     50033\n",
      "         1.0       0.81      0.51      0.63      2605\n",
      "\n",
      "    accuracy                           0.97     52638\n",
      "   macro avg       0.89      0.75      0.80     52638\n",
      "weighted avg       0.97      0.97      0.97     52638\n",
      "\n",
      "**********************************************************************\n",
      "\n",
      "MultinomialNB model performance for abuse with \n",
      "\n",
      "classification report for abuse  comments of model BernoulliNB() is \n",
      "               precision    recall  f1-score   support\n",
      "\n",
      "         0.0       0.99      0.77      0.87     50033\n",
      "         1.0       0.16      0.88      0.28      2605\n",
      "\n",
      "    accuracy                           0.77     52638\n",
      "   macro avg       0.58      0.82      0.57     52638\n",
      "weighted avg       0.95      0.77      0.84     52638\n",
      "\n",
      "**********************************************************************\n",
      "\n",
      "MultinomialNB model performance for abuse with \n",
      "\n",
      "classification report for abuse  comments of model MultinomialNB() is \n",
      "               precision    recall  f1-score   support\n",
      "\n",
      "         0.0       0.97      1.00      0.98     50033\n",
      "         1.0       0.87      0.31      0.46      2605\n",
      "\n",
      "    accuracy                           0.96     52638\n",
      "   macro avg       0.92      0.66      0.72     52638\n",
      "weighted avg       0.96      0.96      0.96     52638\n",
      "\n",
      "**********************************************************************\n",
      "\n",
      "MultinomialNB model performance for abuse with \n",
      "\n",
      "classification report for abuse  comments of model LinearSVC() is \n",
      "               precision    recall  f1-score   support\n",
      "\n",
      "         0.0       0.98      0.99      0.98     50033\n",
      "         1.0       0.77      0.59      0.67      2605\n",
      "\n",
      "    accuracy                           0.97     52638\n",
      "   macro avg       0.88      0.79      0.83     52638\n",
      "weighted avg       0.97      0.97      0.97     52638\n",
      "\n",
      "**********************************************************************\n",
      "\n",
      "MultinomialNB model performance for threat with \n",
      "\n",
      "classification report for threat  comments of model LogisticRegression() is \n",
      "               precision    recall  f1-score   support\n",
      "\n",
      "         0.0       1.00      1.00      1.00     52481\n",
      "         1.0       0.75      0.10      0.17       157\n",
      "\n",
      "    accuracy                           1.00     52638\n",
      "   macro avg       0.87      0.55      0.58     52638\n",
      "weighted avg       1.00      1.00      1.00     52638\n",
      "\n",
      "**********************************************************************\n",
      "\n",
      "MultinomialNB model performance for threat with \n",
      "\n",
      "classification report for threat  comments of model BernoulliNB() is \n",
      "               precision    recall  f1-score   support\n",
      "\n",
      "         0.0       1.00      0.99      1.00     52481\n",
      "         1.0       0.01      0.01      0.01       157\n",
      "\n",
      "    accuracy                           0.99     52638\n",
      "   macro avg       0.50      0.50      0.50     52638\n",
      "weighted avg       0.99      0.99      0.99     52638\n",
      "\n",
      "**********************************************************************\n",
      "\n",
      "MultinomialNB model performance for threat with \n",
      "\n",
      "classification report for threat  comments of model MultinomialNB() is \n",
      "               precision    recall  f1-score   support\n",
      "\n",
      "         0.0       1.00      1.00      1.00     52481\n",
      "         1.0       0.00      0.00      0.00       157\n",
      "\n",
      "    accuracy                           1.00     52638\n",
      "   macro avg       0.50      0.50      0.50     52638\n",
      "weighted avg       0.99      1.00      1.00     52638\n",
      "\n",
      "**********************************************************************\n",
      "\n",
      "MultinomialNB model performance for threat with \n",
      "\n",
      "classification report for threat  comments of model LinearSVC() is \n",
      "               precision    recall  f1-score   support\n",
      "\n",
      "         0.0       1.00      1.00      1.00     52481\n",
      "         1.0       0.58      0.22      0.32       157\n",
      "\n",
      "    accuracy                           1.00     52638\n",
      "   macro avg       0.79      0.61      0.66     52638\n",
      "weighted avg       1.00      1.00      1.00     52638\n",
      "\n",
      "**********************************************************************\n",
      "\n",
      "MultinomialNB model performance for loathe with \n",
      "\n",
      "classification report for loathe  comments of model LogisticRegression() is \n",
      "               precision    recall  f1-score   support\n",
      "\n",
      "         0.0       0.99      1.00      1.00     52191\n",
      "         1.0       0.70      0.16      0.26       447\n",
      "\n",
      "    accuracy                           0.99     52638\n",
      "   macro avg       0.84      0.58      0.63     52638\n",
      "weighted avg       0.99      0.99      0.99     52638\n",
      "\n",
      "**********************************************************************\n",
      "\n",
      "MultinomialNB model performance for loathe with \n",
      "\n",
      "classification report for loathe  comments of model BernoulliNB() is \n",
      "               precision    recall  f1-score   support\n",
      "\n",
      "         0.0       0.99      0.99      0.99     52191\n",
      "         1.0       0.22      0.21      0.21       447\n",
      "\n",
      "    accuracy                           0.99     52638\n",
      "   macro avg       0.61      0.60      0.60     52638\n",
      "weighted avg       0.99      0.99      0.99     52638\n",
      "\n",
      "**********************************************************************\n",
      "\n",
      "MultinomialNB model performance for loathe with \n",
      "\n",
      "classification report for loathe  comments of model MultinomialNB() is \n",
      "               precision    recall  f1-score   support\n",
      "\n",
      "         0.0       0.99      1.00      1.00     52191\n",
      "         1.0       1.00      0.00      0.00       447\n",
      "\n",
      "    accuracy                           0.99     52638\n",
      "   macro avg       1.00      0.50      0.50     52638\n",
      "weighted avg       0.99      0.99      0.99     52638\n",
      "\n",
      "**********************************************************************\n",
      "\n",
      "MultinomialNB model performance for loathe with \n",
      "\n",
      "classification report for loathe  comments of model LinearSVC() is \n",
      "               precision    recall  f1-score   support\n",
      "\n",
      "         0.0       0.99      1.00      1.00     52191\n",
      "         1.0       0.62      0.25      0.36       447\n",
      "\n",
      "    accuracy                           0.99     52638\n",
      "   macro avg       0.81      0.63      0.68     52638\n",
      "weighted avg       0.99      0.99      0.99     52638\n",
      "\n",
      "**********************************************************************\n",
      "\n"
     ]
    }
   ],
   "source": [
    "from sklearn.feature_extraction.text import TfidfVectorizer\n",
    "# making 3 datasets to display f1_score,precion score ,recall score\n",
    "f1_score_data=pd.DataFrame(index=[\"Log Regression\",\"BernoulliNB\",\"MultinomialNB\",\"LinearSVC\"])\n",
    "precision_data=pd.DataFrame(index=[\"Log Regression\",\"BernoulliNB\",\"MultinomialNB\",\"LinearSVC\"])\n",
    "recall_data=pd.DataFrame(index=[\"Log Regression\",\"BernoulliNB\",\"MultinomialNB\",\"LinearSVC\"])\n",
    "\n",
    "model=[LogisticRegression(),BernoulliNB(),MultinomialNB(),LinearSVC()]\n",
    "\n",
    "\n",
    "for i in classes:       \n",
    "        #making lists to store f1_score,precision ,recall for all 4 models\n",
    "    f1_score_list=[]\n",
    "    precision_list=[]\n",
    "    recall_list=[]\n",
    "    for m in model:\n",
    "        #pipelining the model with OneVsRestClassifier for multiclass classification\n",
    "        NB_pipeline = Pipeline([\n",
    "                ('tfidf', TfidfVectorizer(smooth_idf=False,max_features=20000,ngram_range=(1,1),analyzer='word')),\n",
    "                ('clf', OneVsRestClassifier(m)),])\n",
    "\n",
    "        print('MultinomialNB model performance for',i,'with \\n' )\n",
    "    # train the model \n",
    "        NB_pipeline.fit(X_train,train[i])\n",
    "    # compute the testing accuracy\n",
    "        y_pred=NB_pipeline.predict(X_test)\n",
    "    #appending metrics in respective lists\n",
    "        f1_score_list.append(f1_score(test[i],y_pred,average='micro'))\n",
    "        precision_list.append(precision_score(test[i],y_pred,average='micro'))\n",
    "        recall_list.append(recall_score(test[i],y_pred,average='micro'))\n",
    "        \n",
    "        f1_scores_data=f1_score_list\n",
    "        precisions_data=precision_list\n",
    "        recalls_data=recall_list\n",
    "     \n",
    "        print(\"classification report for\",i,\" comments of model\" , m, \"is \\n\",classification_report(test[i],y_pred))\n",
    "        print(\"**********************************************************************\\n\")\n",
    "        \n",
    "    # copying all 4 models and their metrics for 6 class in datasets\n",
    "    f1_score_data[i]=f1_scores_data\n",
    "    precision_data[i]=precisions_data\n",
    "    recall_data[i]=recalls_data\n",
    "   \n",
    "\n",
    "\n",
    "    \n",
    "\n"
   ]
  },
  {
   "cell_type": "code",
   "execution_count": 71,
   "metadata": {},
   "outputs": [
    {
     "data": {
      "text/html": [
       "<div>\n",
       "<style scoped>\n",
       "    .dataframe tbody tr th:only-of-type {\n",
       "        vertical-align: middle;\n",
       "    }\n",
       "\n",
       "    .dataframe tbody tr th {\n",
       "        vertical-align: top;\n",
       "    }\n",
       "\n",
       "    .dataframe thead th {\n",
       "        text-align: right;\n",
       "    }\n",
       "</style>\n",
       "<table border=\"1\" class=\"dataframe\">\n",
       "  <thead>\n",
       "    <tr style=\"text-align: right;\">\n",
       "      <th></th>\n",
       "      <th>malignant</th>\n",
       "      <th>highly_malignant</th>\n",
       "      <th>rude</th>\n",
       "      <th>abuse</th>\n",
       "      <th>threat</th>\n",
       "      <th>loathe</th>\n",
       "    </tr>\n",
       "  </thead>\n",
       "  <tbody>\n",
       "    <tr>\n",
       "      <th>Log Regression</th>\n",
       "      <td>0.957141</td>\n",
       "      <td>0.990349</td>\n",
       "      <td>0.978115</td>\n",
       "      <td>0.969813</td>\n",
       "      <td>0.997207</td>\n",
       "      <td>0.992268</td>\n",
       "    </tr>\n",
       "    <tr>\n",
       "      <th>BernoulliNB</th>\n",
       "      <td>0.704358</td>\n",
       "      <td>0.986474</td>\n",
       "      <td>0.760401</td>\n",
       "      <td>0.773092</td>\n",
       "      <td>0.991622</td>\n",
       "      <td>0.987082</td>\n",
       "    </tr>\n",
       "    <tr>\n",
       "      <th>MultinomialNB</th>\n",
       "      <td>0.945097</td>\n",
       "      <td>0.990064</td>\n",
       "      <td>0.967628</td>\n",
       "      <td>0.963619</td>\n",
       "      <td>0.997017</td>\n",
       "      <td>0.991527</td>\n",
       "    </tr>\n",
       "    <tr>\n",
       "      <th>LinearSVC</th>\n",
       "      <td>0.959630</td>\n",
       "      <td>0.990311</td>\n",
       "      <td>0.979938</td>\n",
       "      <td>0.971124</td>\n",
       "      <td>0.997207</td>\n",
       "      <td>0.992363</td>\n",
       "    </tr>\n",
       "  </tbody>\n",
       "</table>\n",
       "</div>"
      ],
      "text/plain": [
       "                malignant  highly_malignant      rude     abuse    threat  \\\n",
       "Log Regression   0.957141          0.990349  0.978115  0.969813  0.997207   \n",
       "BernoulliNB      0.704358          0.986474  0.760401  0.773092  0.991622   \n",
       "MultinomialNB    0.945097          0.990064  0.967628  0.963619  0.997017   \n",
       "LinearSVC        0.959630          0.990311  0.979938  0.971124  0.997207   \n",
       "\n",
       "                  loathe  \n",
       "Log Regression  0.992268  \n",
       "BernoulliNB     0.987082  \n",
       "MultinomialNB   0.991527  \n",
       "LinearSVC       0.992363  "
      ]
     },
     "execution_count": 71,
     "metadata": {},
     "output_type": "execute_result"
    }
   ],
   "source": [
    "f1_score_data"
   ]
  },
  {
   "cell_type": "code",
   "execution_count": 72,
   "metadata": {},
   "outputs": [
    {
     "data": {
      "text/html": [
       "<div>\n",
       "<style scoped>\n",
       "    .dataframe tbody tr th:only-of-type {\n",
       "        vertical-align: middle;\n",
       "    }\n",
       "\n",
       "    .dataframe tbody tr th {\n",
       "        vertical-align: top;\n",
       "    }\n",
       "\n",
       "    .dataframe thead th {\n",
       "        text-align: right;\n",
       "    }\n",
       "</style>\n",
       "<table border=\"1\" class=\"dataframe\">\n",
       "  <thead>\n",
       "    <tr style=\"text-align: right;\">\n",
       "      <th></th>\n",
       "      <th>malignant</th>\n",
       "      <th>highly_malignant</th>\n",
       "      <th>rude</th>\n",
       "      <th>abuse</th>\n",
       "      <th>threat</th>\n",
       "      <th>loathe</th>\n",
       "    </tr>\n",
       "  </thead>\n",
       "  <tbody>\n",
       "    <tr>\n",
       "      <th>Log Regression</th>\n",
       "      <td>0.957141</td>\n",
       "      <td>0.990349</td>\n",
       "      <td>0.978115</td>\n",
       "      <td>0.969813</td>\n",
       "      <td>0.997207</td>\n",
       "      <td>0.992268</td>\n",
       "    </tr>\n",
       "    <tr>\n",
       "      <th>BernoulliNB</th>\n",
       "      <td>0.704358</td>\n",
       "      <td>0.986474</td>\n",
       "      <td>0.760401</td>\n",
       "      <td>0.773092</td>\n",
       "      <td>0.991622</td>\n",
       "      <td>0.987082</td>\n",
       "    </tr>\n",
       "    <tr>\n",
       "      <th>MultinomialNB</th>\n",
       "      <td>0.945097</td>\n",
       "      <td>0.990064</td>\n",
       "      <td>0.967628</td>\n",
       "      <td>0.963619</td>\n",
       "      <td>0.997017</td>\n",
       "      <td>0.991527</td>\n",
       "    </tr>\n",
       "    <tr>\n",
       "      <th>LinearSVC</th>\n",
       "      <td>0.959630</td>\n",
       "      <td>0.990311</td>\n",
       "      <td>0.979938</td>\n",
       "      <td>0.971124</td>\n",
       "      <td>0.997207</td>\n",
       "      <td>0.992363</td>\n",
       "    </tr>\n",
       "  </tbody>\n",
       "</table>\n",
       "</div>"
      ],
      "text/plain": [
       "                malignant  highly_malignant      rude     abuse    threat  \\\n",
       "Log Regression   0.957141          0.990349  0.978115  0.969813  0.997207   \n",
       "BernoulliNB      0.704358          0.986474  0.760401  0.773092  0.991622   \n",
       "MultinomialNB    0.945097          0.990064  0.967628  0.963619  0.997017   \n",
       "LinearSVC        0.959630          0.990311  0.979938  0.971124  0.997207   \n",
       "\n",
       "                  loathe  \n",
       "Log Regression  0.992268  \n",
       "BernoulliNB     0.987082  \n",
       "MultinomialNB   0.991527  \n",
       "LinearSVC       0.992363  "
      ]
     },
     "execution_count": 72,
     "metadata": {},
     "output_type": "execute_result"
    }
   ],
   "source": [
    "precision_data"
   ]
  },
  {
   "cell_type": "code",
   "execution_count": 73,
   "metadata": {},
   "outputs": [
    {
     "data": {
      "text/html": [
       "<div>\n",
       "<style scoped>\n",
       "    .dataframe tbody tr th:only-of-type {\n",
       "        vertical-align: middle;\n",
       "    }\n",
       "\n",
       "    .dataframe tbody tr th {\n",
       "        vertical-align: top;\n",
       "    }\n",
       "\n",
       "    .dataframe thead th {\n",
       "        text-align: right;\n",
       "    }\n",
       "</style>\n",
       "<table border=\"1\" class=\"dataframe\">\n",
       "  <thead>\n",
       "    <tr style=\"text-align: right;\">\n",
       "      <th></th>\n",
       "      <th>malignant</th>\n",
       "      <th>highly_malignant</th>\n",
       "      <th>rude</th>\n",
       "      <th>abuse</th>\n",
       "      <th>threat</th>\n",
       "      <th>loathe</th>\n",
       "    </tr>\n",
       "  </thead>\n",
       "  <tbody>\n",
       "    <tr>\n",
       "      <th>Log Regression</th>\n",
       "      <td>0.957141</td>\n",
       "      <td>0.990349</td>\n",
       "      <td>0.978115</td>\n",
       "      <td>0.969813</td>\n",
       "      <td>0.997207</td>\n",
       "      <td>0.992268</td>\n",
       "    </tr>\n",
       "    <tr>\n",
       "      <th>BernoulliNB</th>\n",
       "      <td>0.704358</td>\n",
       "      <td>0.986474</td>\n",
       "      <td>0.760401</td>\n",
       "      <td>0.773092</td>\n",
       "      <td>0.991622</td>\n",
       "      <td>0.987082</td>\n",
       "    </tr>\n",
       "    <tr>\n",
       "      <th>MultinomialNB</th>\n",
       "      <td>0.945097</td>\n",
       "      <td>0.990064</td>\n",
       "      <td>0.967628</td>\n",
       "      <td>0.963619</td>\n",
       "      <td>0.997017</td>\n",
       "      <td>0.991527</td>\n",
       "    </tr>\n",
       "    <tr>\n",
       "      <th>LinearSVC</th>\n",
       "      <td>0.959630</td>\n",
       "      <td>0.990311</td>\n",
       "      <td>0.979938</td>\n",
       "      <td>0.971124</td>\n",
       "      <td>0.997207</td>\n",
       "      <td>0.992363</td>\n",
       "    </tr>\n",
       "  </tbody>\n",
       "</table>\n",
       "</div>"
      ],
      "text/plain": [
       "                malignant  highly_malignant      rude     abuse    threat  \\\n",
       "Log Regression   0.957141          0.990349  0.978115  0.969813  0.997207   \n",
       "BernoulliNB      0.704358          0.986474  0.760401  0.773092  0.991622   \n",
       "MultinomialNB    0.945097          0.990064  0.967628  0.963619  0.997017   \n",
       "LinearSVC        0.959630          0.990311  0.979938  0.971124  0.997207   \n",
       "\n",
       "                  loathe  \n",
       "Log Regression  0.992268  \n",
       "BernoulliNB     0.987082  \n",
       "MultinomialNB   0.991527  \n",
       "LinearSVC       0.992363  "
      ]
     },
     "execution_count": 73,
     "metadata": {},
     "output_type": "execute_result"
    }
   ],
   "source": [
    "recall_data"
   ]
  },
  {
   "cell_type": "markdown",
   "metadata": {},
   "source": [
    "## LinearSVC is performing best in all the metrics i.e f1_scoe, recall score and precision scoring and for all classes. "
   ]
  },
  {
   "cell_type": "markdown",
   "metadata": {},
   "source": [
    "## parameter tuning by cross validating through roc_auc scoring"
   ]
  },
  {
   "cell_type": "code",
   "execution_count": 75,
   "metadata": {},
   "outputs": [
    {
     "name": "stdout",
     "output_type": "stream",
     "text": [
      "LinearSVC model performance for class malignant\n",
      "Cross Validation Score for  malignant is :  [0.95309252 0.95842329 0.95558761 0.95858517] \n",
      "\n",
      "Mean for  malignant is :  0.9564221484968404\n",
      "Standard Deviation for  malignant is : 0.0022619744803969\n",
      "LinearSVC model performance for class highly_malignant\n",
      "Cross Validation Score for  highly_malignant is :  [0.97587355 0.95257214 0.96174915 0.96804065] \n",
      "\n",
      "Mean for  highly_malignant is :  0.9645588730081669\n",
      "Standard Deviation for  highly_malignant is : 0.008539920759212746\n",
      "LinearSVC model performance for class rude\n",
      "Cross Validation Score for  rude is :  [0.97326916 0.97753184 0.97208657 0.97142741] \n",
      "\n",
      "Mean for  rude is :  0.9735787475479201\n",
      "Standard Deviation for  rude is : 0.002375797285839223\n",
      "LinearSVC model performance for class abuse\n",
      "Cross Validation Score for  abuse is :  [0.96381819 0.96350599 0.95789662 0.95355151] \n",
      "\n",
      "Mean for  abuse is :  0.9596930781929489\n",
      "Standard Deviation for  abuse is : 0.00425737495517391\n",
      "LinearSVC model performance for class threat\n",
      "Cross Validation Score for  threat is :  [0.93209554 0.94802401 0.92851196 0.97051087] \n",
      "\n",
      "Mean for  threat is :  0.944785595134537\n",
      "Standard Deviation for  threat is : 0.01656913891739996\n",
      "LinearSVC model performance for class loathe\n",
      "Cross Validation Score for  loathe is :  [0.94951368 0.92454577 0.9559499  0.92831685] \n",
      "\n",
      "Mean for  loathe is :  0.939581549464671\n",
      "Standard Deviation for  loathe is : 0.013412101951395642\n"
     ]
    }
   ],
   "source": [
    "# cross validating LinearSVC\n",
    "from sklearn.model_selection import cross_val_score\n",
    "\n",
    "SVC_pipeline = Pipeline([\n",
    "                ('tfidf', TfidfVectorizer(smooth_idf=False,max_features=20000,ngram_range=(1,1),analyzer='word')),\n",
    "                ('clf', OneVsRestClassifier(LinearSVC())),\n",
    "            ])\n",
    "for i  in classes:\n",
    "    print('LinearSVC model performance for class {}'.format(i))\n",
    "    # train the model using X_dtm & y\n",
    "    SVC_pipeline.fit(X_train, train[i])\n",
    "    # compute the testing accuracy\n",
    "    prediction = SVC_pipeline.predict(X_test)\n",
    "    #cross val score using scoring as roc_auc \n",
    "    score=cross_val_score(SVC_pipeline,X_test,test[i],cv=4,scoring='roc_auc')\n",
    "    print(\"Cross Validation Score for \" ,i , \"is : \" ,score,\"\\n\")\n",
    "    print(\"Mean for \",i,\"is : \" , score.mean())\n",
    "    print(\"Standard Deviation for \" , i , \"is :\" , score.std())"
   ]
  },
  {
   "cell_type": "markdown",
   "metadata": {},
   "source": [
    "### LinearSVC is performing better with f1_score  98 % . mean is averaged near 98%. Standard deviation is also very less."
   ]
  },
  {
   "cell_type": "markdown",
   "metadata": {},
   "source": [
    "# Saving the model- Serialization"
   ]
  },
  {
   "cell_type": "code",
   "execution_count": 76,
   "metadata": {},
   "outputs": [],
   "source": [
    "# saving the prediction model\n",
    "\n",
    "import pickle\n",
    "filename=\"comments.pkl\"\n",
    "pickle.dump(SVC_pipeline,open(filename,'wb'))"
   ]
  },
  {
   "cell_type": "code",
   "execution_count": 77,
   "metadata": {},
   "outputs": [],
   "source": [
    "# load the model\n",
    "fitted_model=pickle.load(open(\"comments.pkl\",'rb'))"
   ]
  },
  {
   "cell_type": "code",
   "execution_count": 78,
   "metadata": {},
   "outputs": [
    {
     "data": {
      "text/plain": [
       "Pipeline(steps=[('tfidf',\n",
       "                 TfidfVectorizer(max_features=20000, smooth_idf=False)),\n",
       "                ('clf', OneVsRestClassifier(estimator=LinearSVC()))])"
      ]
     },
     "execution_count": 78,
     "metadata": {},
     "output_type": "execute_result"
    }
   ],
   "source": [
    "fitted_model"
   ]
  },
  {
   "cell_type": "code",
   "execution_count": 79,
   "metadata": {},
   "outputs": [],
   "source": [
    "# predictions over test data (testcomment.csv)\n",
    "\n",
    "predictions=fitted_model.predict(test_data[\"comment_text\"])"
   ]
  },
  {
   "cell_type": "code",
   "execution_count": 80,
   "metadata": {},
   "outputs": [
    {
     "data": {
      "text/plain": [
       "array([0., 0., 0., ..., 0., 0., 0.])"
      ]
     },
     "execution_count": 80,
     "metadata": {},
     "output_type": "execute_result"
    }
   ],
   "source": [
    "predictions"
   ]
  },
  {
   "cell_type": "code",
   "execution_count": 81,
   "metadata": {},
   "outputs": [
    {
     "data": {
      "text/html": [
       "<div>\n",
       "<style scoped>\n",
       "    .dataframe tbody tr th:only-of-type {\n",
       "        vertical-align: middle;\n",
       "    }\n",
       "\n",
       "    .dataframe tbody tr th {\n",
       "        vertical-align: top;\n",
       "    }\n",
       "\n",
       "    .dataframe thead th {\n",
       "        text-align: right;\n",
       "    }\n",
       "</style>\n",
       "<table border=\"1\" class=\"dataframe\">\n",
       "  <thead>\n",
       "    <tr style=\"text-align: right;\">\n",
       "      <th></th>\n",
       "      <th>Label</th>\n",
       "    </tr>\n",
       "  </thead>\n",
       "  <tbody>\n",
       "    <tr>\n",
       "      <th>0</th>\n",
       "      <td>0.0</td>\n",
       "    </tr>\n",
       "    <tr>\n",
       "      <th>1</th>\n",
       "      <td>0.0</td>\n",
       "    </tr>\n",
       "    <tr>\n",
       "      <th>2</th>\n",
       "      <td>0.0</td>\n",
       "    </tr>\n",
       "    <tr>\n",
       "      <th>3</th>\n",
       "      <td>0.0</td>\n",
       "    </tr>\n",
       "    <tr>\n",
       "      <th>4</th>\n",
       "      <td>0.0</td>\n",
       "    </tr>\n",
       "    <tr>\n",
       "      <th>...</th>\n",
       "      <td>...</td>\n",
       "    </tr>\n",
       "    <tr>\n",
       "      <th>153152</th>\n",
       "      <td>0.0</td>\n",
       "    </tr>\n",
       "    <tr>\n",
       "      <th>153153</th>\n",
       "      <td>0.0</td>\n",
       "    </tr>\n",
       "    <tr>\n",
       "      <th>153154</th>\n",
       "      <td>0.0</td>\n",
       "    </tr>\n",
       "    <tr>\n",
       "      <th>153155</th>\n",
       "      <td>0.0</td>\n",
       "    </tr>\n",
       "    <tr>\n",
       "      <th>153156</th>\n",
       "      <td>0.0</td>\n",
       "    </tr>\n",
       "  </tbody>\n",
       "</table>\n",
       "<p>153157 rows × 1 columns</p>\n",
       "</div>"
      ],
      "text/plain": [
       "        Label\n",
       "0         0.0\n",
       "1         0.0\n",
       "2         0.0\n",
       "3         0.0\n",
       "4         0.0\n",
       "...       ...\n",
       "153152    0.0\n",
       "153153    0.0\n",
       "153154    0.0\n",
       "153155    0.0\n",
       "153156    0.0\n",
       "\n",
       "[153157 rows x 1 columns]"
      ]
     },
     "execution_count": 81,
     "metadata": {},
     "output_type": "execute_result"
    }
   ],
   "source": [
    "ds_pred=pd.DataFrame(data=predictions,columns=[\"Label\"])\n",
    "ds_pred"
   ]
  },
  {
   "cell_type": "code",
   "execution_count": null,
   "metadata": {},
   "outputs": [],
   "source": []
  }
 ],
 "metadata": {
  "kernelspec": {
   "display_name": "Python 3",
   "language": "python",
   "name": "python3"
  },
  "language_info": {
   "codemirror_mode": {
    "name": "ipython",
    "version": 3
   },
   "file_extension": ".py",
   "mimetype": "text/x-python",
   "name": "python",
   "nbconvert_exporter": "python",
   "pygments_lexer": "ipython3",
   "version": "3.8.5"
  }
 },
 "nbformat": 4,
 "nbformat_minor": 4
}
