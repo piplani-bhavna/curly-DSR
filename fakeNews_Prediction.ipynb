{
 "cells": [
  {
   "cell_type": "code",
   "execution_count": 2,
   "metadata": {},
   "outputs": [],
   "source": [
    "#importing required libraries\n",
    "import pandas as pd\n",
    "import numpy as np\n",
    "import seaborn as sns\n",
    "import matplotlib.pyplot as plt\n",
    "import warnings\n",
    "warnings.simplefilter(action=\"ignore\")"
   ]
  },
  {
   "cell_type": "markdown",
   "metadata": {},
   "source": [
    "# EDA on train data"
   ]
  },
  {
   "cell_type": "code",
   "execution_count": 3,
   "metadata": {},
   "outputs": [
    {
     "data": {
      "text/html": [
       "<div>\n",
       "<style scoped>\n",
       "    .dataframe tbody tr th:only-of-type {\n",
       "        vertical-align: middle;\n",
       "    }\n",
       "\n",
       "    .dataframe tbody tr th {\n",
       "        vertical-align: top;\n",
       "    }\n",
       "\n",
       "    .dataframe thead th {\n",
       "        text-align: right;\n",
       "    }\n",
       "</style>\n",
       "<table border=\"1\" class=\"dataframe\">\n",
       "  <thead>\n",
       "    <tr style=\"text-align: right;\">\n",
       "      <th></th>\n",
       "      <th>id</th>\n",
       "      <th>headline</th>\n",
       "      <th>written_by</th>\n",
       "      <th>news</th>\n",
       "      <th>label</th>\n",
       "    </tr>\n",
       "  </thead>\n",
       "  <tbody>\n",
       "    <tr>\n",
       "      <th>0</th>\n",
       "      <td>9653</td>\n",
       "      <td>Ethics Questions Dogged Agriculture Nominee as...</td>\n",
       "      <td>Eric Lipton and Steve Eder</td>\n",
       "      <td>WASHINGTON  —   In Sonny Perdue’s telling, Geo...</td>\n",
       "      <td>0</td>\n",
       "    </tr>\n",
       "    <tr>\n",
       "      <th>1</th>\n",
       "      <td>10041</td>\n",
       "      <td>U.S. Must Dig Deep to Stop Argentina’s Lionel ...</td>\n",
       "      <td>David Waldstein</td>\n",
       "      <td>HOUSTON  —   Venezuela had a plan. It was a ta...</td>\n",
       "      <td>0</td>\n",
       "    </tr>\n",
       "    <tr>\n",
       "      <th>2</th>\n",
       "      <td>19113</td>\n",
       "      <td>Cotton to House: ’Do Not Walk the Plank and Vo...</td>\n",
       "      <td>Pam Key</td>\n",
       "      <td>Sunday on ABC’s “This Week,” while discussing ...</td>\n",
       "      <td>0</td>\n",
       "    </tr>\n",
       "    <tr>\n",
       "      <th>3</th>\n",
       "      <td>6868</td>\n",
       "      <td>Paul LePage, Besieged Maine Governor, Sends Co...</td>\n",
       "      <td>Jess Bidgood</td>\n",
       "      <td>AUGUSTA, Me.  —   The beleaguered Republican g...</td>\n",
       "      <td>0</td>\n",
       "    </tr>\n",
       "    <tr>\n",
       "      <th>4</th>\n",
       "      <td>7596</td>\n",
       "      <td>A Digital 9/11 If Trump Wins</td>\n",
       "      <td>Finian Cunningham</td>\n",
       "      <td>Finian Cunningham has written extensively on...</td>\n",
       "      <td>1</td>\n",
       "    </tr>\n",
       "    <tr>\n",
       "      <th>...</th>\n",
       "      <td>...</td>\n",
       "      <td>...</td>\n",
       "      <td>...</td>\n",
       "      <td>...</td>\n",
       "      <td>...</td>\n",
       "    </tr>\n",
       "    <tr>\n",
       "      <th>20795</th>\n",
       "      <td>5671</td>\n",
       "      <td>NaN</td>\n",
       "      <td>NeverSurrender</td>\n",
       "      <td>No, you'll be a dog licking of the vomit of yo...</td>\n",
       "      <td>1</td>\n",
       "    </tr>\n",
       "    <tr>\n",
       "      <th>20796</th>\n",
       "      <td>14831</td>\n",
       "      <td>Albert Pike and the European Migrant Crisis</td>\n",
       "      <td>Rixon Stewart</td>\n",
       "      <td>By Rixon Stewart on November 5, 2016 Rixon Ste...</td>\n",
       "      <td>1</td>\n",
       "    </tr>\n",
       "    <tr>\n",
       "      <th>20797</th>\n",
       "      <td>18142</td>\n",
       "      <td>Dakota Access Caught Infiltrating Protests to ...</td>\n",
       "      <td>Eddy Lavine</td>\n",
       "      <td>posted by Eddie You know the Dakota Access Pip...</td>\n",
       "      <td>1</td>\n",
       "    </tr>\n",
       "    <tr>\n",
       "      <th>20798</th>\n",
       "      <td>12139</td>\n",
       "      <td>How to Stretch the Summer Solstice - The New Y...</td>\n",
       "      <td>Alison S. Cohn</td>\n",
       "      <td>It’s officially summer, and the Society Boutiq...</td>\n",
       "      <td>0</td>\n",
       "    </tr>\n",
       "    <tr>\n",
       "      <th>20799</th>\n",
       "      <td>15660</td>\n",
       "      <td>Emory University to Pay for ’100 Percent’ of U...</td>\n",
       "      <td>Tom Ciccotta</td>\n",
       "      <td>Emory University in Atlanta, Georgia, has anno...</td>\n",
       "      <td>0</td>\n",
       "    </tr>\n",
       "  </tbody>\n",
       "</table>\n",
       "<p>20800 rows × 5 columns</p>\n",
       "</div>"
      ],
      "text/plain": [
       "          id                                           headline  \\\n",
       "0       9653  Ethics Questions Dogged Agriculture Nominee as...   \n",
       "1      10041  U.S. Must Dig Deep to Stop Argentina’s Lionel ...   \n",
       "2      19113  Cotton to House: ’Do Not Walk the Plank and Vo...   \n",
       "3       6868  Paul LePage, Besieged Maine Governor, Sends Co...   \n",
       "4       7596                       A Digital 9/11 If Trump Wins   \n",
       "...      ...                                                ...   \n",
       "20795   5671                                                NaN   \n",
       "20796  14831        Albert Pike and the European Migrant Crisis   \n",
       "20797  18142  Dakota Access Caught Infiltrating Protests to ...   \n",
       "20798  12139  How to Stretch the Summer Solstice - The New Y...   \n",
       "20799  15660  Emory University to Pay for ’100 Percent’ of U...   \n",
       "\n",
       "                       written_by  \\\n",
       "0      Eric Lipton and Steve Eder   \n",
       "1                 David Waldstein   \n",
       "2                         Pam Key   \n",
       "3                    Jess Bidgood   \n",
       "4               Finian Cunningham   \n",
       "...                           ...   \n",
       "20795              NeverSurrender   \n",
       "20796               Rixon Stewart   \n",
       "20797                 Eddy Lavine   \n",
       "20798              Alison S. Cohn   \n",
       "20799                Tom Ciccotta   \n",
       "\n",
       "                                                    news  label  \n",
       "0      WASHINGTON  —   In Sonny Perdue’s telling, Geo...      0  \n",
       "1      HOUSTON  —   Venezuela had a plan. It was a ta...      0  \n",
       "2      Sunday on ABC’s “This Week,” while discussing ...      0  \n",
       "3      AUGUSTA, Me.  —   The beleaguered Republican g...      0  \n",
       "4        Finian Cunningham has written extensively on...      1  \n",
       "...                                                  ...    ...  \n",
       "20795  No, you'll be a dog licking of the vomit of yo...      1  \n",
       "20796  By Rixon Stewart on November 5, 2016 Rixon Ste...      1  \n",
       "20797  posted by Eddie You know the Dakota Access Pip...      1  \n",
       "20798  It’s officially summer, and the Society Boutiq...      0  \n",
       "20799  Emory University in Atlanta, Georgia, has anno...      0  \n",
       "\n",
       "[20800 rows x 5 columns]"
      ]
     },
     "execution_count": 3,
     "metadata": {},
     "output_type": "execute_result"
    }
   ],
   "source": [
    "# importing the data from csv file\n",
    "train_data = pd.read_csv(\"fakenews.csv\",sep=',',index_col=0)\n",
    "train_data\n"
   ]
  },
  {
   "cell_type": "code",
   "execution_count": 4,
   "metadata": {},
   "outputs": [
    {
     "data": {
      "text/plain": [
       "Index(['id', 'headline', 'written_by', 'news', 'label'], dtype='object')"
      ]
     },
     "execution_count": 4,
     "metadata": {},
     "output_type": "execute_result"
    }
   ],
   "source": [
    "train_data.columns # checking columns of train dataset\n"
   ]
  },
  {
   "cell_type": "markdown",
   "metadata": {},
   "source": [
    "# EDA"
   ]
  },
  {
   "cell_type": "code",
   "execution_count": 5,
   "metadata": {},
   "outputs": [
    {
     "data": {
      "text/plain": [
       "(20800, 5)"
      ]
     },
     "execution_count": 5,
     "metadata": {},
     "output_type": "execute_result"
    }
   ],
   "source": [
    "train_data.shape  # checking the rows and cols count"
   ]
  },
  {
   "cell_type": "code",
   "execution_count": 6,
   "metadata": {},
   "outputs": [
    {
     "data": {
      "text/plain": [
       "Index(['id', 'headline', 'written_by', 'news', 'label'], dtype='object')"
      ]
     },
     "execution_count": 6,
     "metadata": {},
     "output_type": "execute_result"
    }
   ],
   "source": [
    "train_data.columns  # checking the various cols"
   ]
  },
  {
   "cell_type": "code",
   "execution_count": 7,
   "metadata": {},
   "outputs": [
    {
     "data": {
      "text/plain": [
       "id             int64\n",
       "headline      object\n",
       "written_by    object\n",
       "news          object\n",
       "label          int64\n",
       "dtype: object"
      ]
     },
     "execution_count": 7,
     "metadata": {},
     "output_type": "execute_result"
    }
   ],
   "source": [
    "train_data.dtypes   # checking the datatypes of cols"
   ]
  },
  {
   "cell_type": "code",
   "execution_count": 8,
   "metadata": {},
   "outputs": [
    {
     "data": {
      "text/html": [
       "<div>\n",
       "<style scoped>\n",
       "    .dataframe tbody tr th:only-of-type {\n",
       "        vertical-align: middle;\n",
       "    }\n",
       "\n",
       "    .dataframe tbody tr th {\n",
       "        vertical-align: top;\n",
       "    }\n",
       "\n",
       "    .dataframe thead th {\n",
       "        text-align: right;\n",
       "    }\n",
       "</style>\n",
       "<table border=\"1\" class=\"dataframe\">\n",
       "  <thead>\n",
       "    <tr style=\"text-align: right;\">\n",
       "      <th></th>\n",
       "      <th>id</th>\n",
       "      <th>label</th>\n",
       "    </tr>\n",
       "  </thead>\n",
       "  <tbody>\n",
       "    <tr>\n",
       "      <th>count</th>\n",
       "      <td>20800.000000</td>\n",
       "      <td>20800.000000</td>\n",
       "    </tr>\n",
       "    <tr>\n",
       "      <th>mean</th>\n",
       "      <td>10399.500000</td>\n",
       "      <td>0.500625</td>\n",
       "    </tr>\n",
       "    <tr>\n",
       "      <th>std</th>\n",
       "      <td>6004.587135</td>\n",
       "      <td>0.500012</td>\n",
       "    </tr>\n",
       "    <tr>\n",
       "      <th>min</th>\n",
       "      <td>0.000000</td>\n",
       "      <td>0.000000</td>\n",
       "    </tr>\n",
       "    <tr>\n",
       "      <th>25%</th>\n",
       "      <td>5199.750000</td>\n",
       "      <td>0.000000</td>\n",
       "    </tr>\n",
       "    <tr>\n",
       "      <th>50%</th>\n",
       "      <td>10399.500000</td>\n",
       "      <td>1.000000</td>\n",
       "    </tr>\n",
       "    <tr>\n",
       "      <th>75%</th>\n",
       "      <td>15599.250000</td>\n",
       "      <td>1.000000</td>\n",
       "    </tr>\n",
       "    <tr>\n",
       "      <th>max</th>\n",
       "      <td>20799.000000</td>\n",
       "      <td>1.000000</td>\n",
       "    </tr>\n",
       "  </tbody>\n",
       "</table>\n",
       "</div>"
      ],
      "text/plain": [
       "                 id         label\n",
       "count  20800.000000  20800.000000\n",
       "mean   10399.500000      0.500625\n",
       "std     6004.587135      0.500012\n",
       "min        0.000000      0.000000\n",
       "25%     5199.750000      0.000000\n",
       "50%    10399.500000      1.000000\n",
       "75%    15599.250000      1.000000\n",
       "max    20799.000000      1.000000"
      ]
     },
     "execution_count": 8,
     "metadata": {},
     "output_type": "execute_result"
    }
   ],
   "source": [
    "train_data.describe()"
   ]
  },
  {
   "cell_type": "markdown",
   "metadata": {},
   "source": [
    "### Key Observations here\n",
    "\n",
    "#### Count is not same for all values . seems there are some null values"
   ]
  },
  {
   "cell_type": "code",
   "execution_count": 9,
   "metadata": {},
   "outputs": [
    {
     "name": "stdout",
     "output_type": "stream",
     "text": [
      "<class 'pandas.core.frame.DataFrame'>\n",
      "Int64Index: 20800 entries, 0 to 20799\n",
      "Data columns (total 5 columns):\n",
      " #   Column      Non-Null Count  Dtype \n",
      "---  ------      --------------  ----- \n",
      " 0   id          20800 non-null  int64 \n",
      " 1   headline    20242 non-null  object\n",
      " 2   written_by  18843 non-null  object\n",
      " 3   news        20761 non-null  object\n",
      " 4   label       20800 non-null  int64 \n",
      "dtypes: int64(2), object(3)\n",
      "memory usage: 975.0+ KB\n"
     ]
    }
   ],
   "source": [
    "# checking the information about the not-null, datatypes, rows and cols count of the dataset\n",
    "train_data.info()"
   ]
  },
  {
   "cell_type": "code",
   "execution_count": 10,
   "metadata": {},
   "outputs": [
    {
     "data": {
      "text/html": [
       "<div>\n",
       "<style scoped>\n",
       "    .dataframe tbody tr th:only-of-type {\n",
       "        vertical-align: middle;\n",
       "    }\n",
       "\n",
       "    .dataframe tbody tr th {\n",
       "        vertical-align: top;\n",
       "    }\n",
       "\n",
       "    .dataframe thead th {\n",
       "        text-align: right;\n",
       "    }\n",
       "</style>\n",
       "<table border=\"1\" class=\"dataframe\">\n",
       "  <thead>\n",
       "    <tr style=\"text-align: right;\">\n",
       "      <th></th>\n",
       "      <th>id</th>\n",
       "      <th>headline</th>\n",
       "      <th>written_by</th>\n",
       "      <th>news</th>\n",
       "      <th>label</th>\n",
       "    </tr>\n",
       "  </thead>\n",
       "  <tbody>\n",
       "    <tr>\n",
       "      <th>0</th>\n",
       "      <td>False</td>\n",
       "      <td>False</td>\n",
       "      <td>False</td>\n",
       "      <td>False</td>\n",
       "      <td>False</td>\n",
       "    </tr>\n",
       "    <tr>\n",
       "      <th>1</th>\n",
       "      <td>False</td>\n",
       "      <td>False</td>\n",
       "      <td>False</td>\n",
       "      <td>False</td>\n",
       "      <td>False</td>\n",
       "    </tr>\n",
       "    <tr>\n",
       "      <th>2</th>\n",
       "      <td>False</td>\n",
       "      <td>False</td>\n",
       "      <td>False</td>\n",
       "      <td>False</td>\n",
       "      <td>False</td>\n",
       "    </tr>\n",
       "    <tr>\n",
       "      <th>3</th>\n",
       "      <td>False</td>\n",
       "      <td>False</td>\n",
       "      <td>False</td>\n",
       "      <td>False</td>\n",
       "      <td>False</td>\n",
       "    </tr>\n",
       "    <tr>\n",
       "      <th>4</th>\n",
       "      <td>False</td>\n",
       "      <td>False</td>\n",
       "      <td>False</td>\n",
       "      <td>False</td>\n",
       "      <td>False</td>\n",
       "    </tr>\n",
       "    <tr>\n",
       "      <th>...</th>\n",
       "      <td>...</td>\n",
       "      <td>...</td>\n",
       "      <td>...</td>\n",
       "      <td>...</td>\n",
       "      <td>...</td>\n",
       "    </tr>\n",
       "    <tr>\n",
       "      <th>20795</th>\n",
       "      <td>False</td>\n",
       "      <td>True</td>\n",
       "      <td>False</td>\n",
       "      <td>False</td>\n",
       "      <td>False</td>\n",
       "    </tr>\n",
       "    <tr>\n",
       "      <th>20796</th>\n",
       "      <td>False</td>\n",
       "      <td>False</td>\n",
       "      <td>False</td>\n",
       "      <td>False</td>\n",
       "      <td>False</td>\n",
       "    </tr>\n",
       "    <tr>\n",
       "      <th>20797</th>\n",
       "      <td>False</td>\n",
       "      <td>False</td>\n",
       "      <td>False</td>\n",
       "      <td>False</td>\n",
       "      <td>False</td>\n",
       "    </tr>\n",
       "    <tr>\n",
       "      <th>20798</th>\n",
       "      <td>False</td>\n",
       "      <td>False</td>\n",
       "      <td>False</td>\n",
       "      <td>False</td>\n",
       "      <td>False</td>\n",
       "    </tr>\n",
       "    <tr>\n",
       "      <th>20799</th>\n",
       "      <td>False</td>\n",
       "      <td>False</td>\n",
       "      <td>False</td>\n",
       "      <td>False</td>\n",
       "      <td>False</td>\n",
       "    </tr>\n",
       "  </tbody>\n",
       "</table>\n",
       "<p>20800 rows × 5 columns</p>\n",
       "</div>"
      ],
      "text/plain": [
       "          id  headline  written_by   news  label\n",
       "0      False     False       False  False  False\n",
       "1      False     False       False  False  False\n",
       "2      False     False       False  False  False\n",
       "3      False     False       False  False  False\n",
       "4      False     False       False  False  False\n",
       "...      ...       ...         ...    ...    ...\n",
       "20795  False      True       False  False  False\n",
       "20796  False     False       False  False  False\n",
       "20797  False     False       False  False  False\n",
       "20798  False     False       False  False  False\n",
       "20799  False     False       False  False  False\n",
       "\n",
       "[20800 rows x 5 columns]"
      ]
     },
     "execution_count": 10,
     "metadata": {},
     "output_type": "execute_result"
    }
   ],
   "source": [
    "train_data.isnull() # checking for any null values"
   ]
  },
  {
   "cell_type": "code",
   "execution_count": 11,
   "metadata": {},
   "outputs": [
    {
     "data": {
      "text/plain": [
       "id               0\n",
       "headline       558\n",
       "written_by    1957\n",
       "news            39\n",
       "label            0\n",
       "dtype: int64"
      ]
     },
     "execution_count": 11,
     "metadata": {},
     "output_type": "execute_result"
    }
   ],
   "source": [
    "train_data.isnull().sum() # null  values column wise counts"
   ]
  },
  {
   "cell_type": "code",
   "execution_count": 12,
   "metadata": {},
   "outputs": [
    {
     "data": {
      "text/plain": [
       "<AxesSubplot:>"
      ]
     },
     "execution_count": 12,
     "metadata": {},
     "output_type": "execute_result"
    },
    {
     "data": {
      "image/png": "[encoded data removed]",
      "text/plain": [
       "<Figure size 432x288 with 2 Axes>"
      ]
     },
     "metadata": {
      "needs_background": "light"
     },
     "output_type": "display_data"
    }
   ],
   "source": [
    "sns.heatmap(train_data.isnull())"
   ]
  },
  {
   "cell_type": "markdown",
   "metadata": {},
   "source": [
    "### We dont need columns headline and written_by to predict the news if it is fake or not . we only need to preprocess news and predict the label. so we will drop these two columns and will drop rows having null values in news columns"
   ]
  },
  {
   "cell_type": "code",
   "execution_count": 13,
   "metadata": {},
   "outputs": [
    {
     "data": {
      "text/html": [
       "<div>\n",
       "<style scoped>\n",
       "    .dataframe tbody tr th:only-of-type {\n",
       "        vertical-align: middle;\n",
       "    }\n",
       "\n",
       "    .dataframe tbody tr th {\n",
       "        vertical-align: top;\n",
       "    }\n",
       "\n",
       "    .dataframe thead th {\n",
       "        text-align: right;\n",
       "    }\n",
       "</style>\n",
       "<table border=\"1\" class=\"dataframe\">\n",
       "  <thead>\n",
       "    <tr style=\"text-align: right;\">\n",
       "      <th></th>\n",
       "      <th>id</th>\n",
       "      <th>news</th>\n",
       "      <th>label</th>\n",
       "    </tr>\n",
       "  </thead>\n",
       "  <tbody>\n",
       "    <tr>\n",
       "      <th>0</th>\n",
       "      <td>9653</td>\n",
       "      <td>WASHINGTON  —   In Sonny Perdue’s telling, Geo...</td>\n",
       "      <td>0</td>\n",
       "    </tr>\n",
       "    <tr>\n",
       "      <th>1</th>\n",
       "      <td>10041</td>\n",
       "      <td>HOUSTON  —   Venezuela had a plan. It was a ta...</td>\n",
       "      <td>0</td>\n",
       "    </tr>\n",
       "    <tr>\n",
       "      <th>2</th>\n",
       "      <td>19113</td>\n",
       "      <td>Sunday on ABC’s “This Week,” while discussing ...</td>\n",
       "      <td>0</td>\n",
       "    </tr>\n",
       "    <tr>\n",
       "      <th>3</th>\n",
       "      <td>6868</td>\n",
       "      <td>AUGUSTA, Me.  —   The beleaguered Republican g...</td>\n",
       "      <td>0</td>\n",
       "    </tr>\n",
       "    <tr>\n",
       "      <th>4</th>\n",
       "      <td>7596</td>\n",
       "      <td>Finian Cunningham has written extensively on...</td>\n",
       "      <td>1</td>\n",
       "    </tr>\n",
       "    <tr>\n",
       "      <th>...</th>\n",
       "      <td>...</td>\n",
       "      <td>...</td>\n",
       "      <td>...</td>\n",
       "    </tr>\n",
       "    <tr>\n",
       "      <th>20795</th>\n",
       "      <td>5671</td>\n",
       "      <td>No, you'll be a dog licking of the vomit of yo...</td>\n",
       "      <td>1</td>\n",
       "    </tr>\n",
       "    <tr>\n",
       "      <th>20796</th>\n",
       "      <td>14831</td>\n",
       "      <td>By Rixon Stewart on November 5, 2016 Rixon Ste...</td>\n",
       "      <td>1</td>\n",
       "    </tr>\n",
       "    <tr>\n",
       "      <th>20797</th>\n",
       "      <td>18142</td>\n",
       "      <td>posted by Eddie You know the Dakota Access Pip...</td>\n",
       "      <td>1</td>\n",
       "    </tr>\n",
       "    <tr>\n",
       "      <th>20798</th>\n",
       "      <td>12139</td>\n",
       "      <td>It’s officially summer, and the Society Boutiq...</td>\n",
       "      <td>0</td>\n",
       "    </tr>\n",
       "    <tr>\n",
       "      <th>20799</th>\n",
       "      <td>15660</td>\n",
       "      <td>Emory University in Atlanta, Georgia, has anno...</td>\n",
       "      <td>0</td>\n",
       "    </tr>\n",
       "  </tbody>\n",
       "</table>\n",
       "<p>20800 rows × 3 columns</p>\n",
       "</div>"
      ],
      "text/plain": [
       "          id                                               news  label\n",
       "0       9653  WASHINGTON  —   In Sonny Perdue’s telling, Geo...      0\n",
       "1      10041  HOUSTON  —   Venezuela had a plan. It was a ta...      0\n",
       "2      19113  Sunday on ABC’s “This Week,” while discussing ...      0\n",
       "3       6868  AUGUSTA, Me.  —   The beleaguered Republican g...      0\n",
       "4       7596    Finian Cunningham has written extensively on...      1\n",
       "...      ...                                                ...    ...\n",
       "20795   5671  No, you'll be a dog licking of the vomit of yo...      1\n",
       "20796  14831  By Rixon Stewart on November 5, 2016 Rixon Ste...      1\n",
       "20797  18142  posted by Eddie You know the Dakota Access Pip...      1\n",
       "20798  12139  It’s officially summer, and the Society Boutiq...      0\n",
       "20799  15660  Emory University in Atlanta, Georgia, has anno...      0\n",
       "\n",
       "[20800 rows x 3 columns]"
      ]
     },
     "execution_count": 13,
     "metadata": {},
     "output_type": "execute_result"
    }
   ],
   "source": [
    "train_data=train_data.drop(columns=['headline', 'written_by'])\n",
    "train_data"
   ]
  },
  {
   "cell_type": "code",
   "execution_count": 14,
   "metadata": {},
   "outputs": [
    {
     "data": {
      "text/html": [
       "<div>\n",
       "<style scoped>\n",
       "    .dataframe tbody tr th:only-of-type {\n",
       "        vertical-align: middle;\n",
       "    }\n",
       "\n",
       "    .dataframe tbody tr th {\n",
       "        vertical-align: top;\n",
       "    }\n",
       "\n",
       "    .dataframe thead th {\n",
       "        text-align: right;\n",
       "    }\n",
       "</style>\n",
       "<table border=\"1\" class=\"dataframe\">\n",
       "  <thead>\n",
       "    <tr style=\"text-align: right;\">\n",
       "      <th></th>\n",
       "      <th>id</th>\n",
       "      <th>news</th>\n",
       "      <th>label</th>\n",
       "    </tr>\n",
       "  </thead>\n",
       "  <tbody>\n",
       "    <tr>\n",
       "      <th>0</th>\n",
       "      <td>9653</td>\n",
       "      <td>WASHINGTON  —   In Sonny Perdue’s telling, Geo...</td>\n",
       "      <td>0</td>\n",
       "    </tr>\n",
       "    <tr>\n",
       "      <th>1</th>\n",
       "      <td>10041</td>\n",
       "      <td>HOUSTON  —   Venezuela had a plan. It was a ta...</td>\n",
       "      <td>0</td>\n",
       "    </tr>\n",
       "    <tr>\n",
       "      <th>2</th>\n",
       "      <td>19113</td>\n",
       "      <td>Sunday on ABC’s “This Week,” while discussing ...</td>\n",
       "      <td>0</td>\n",
       "    </tr>\n",
       "    <tr>\n",
       "      <th>3</th>\n",
       "      <td>6868</td>\n",
       "      <td>AUGUSTA, Me.  —   The beleaguered Republican g...</td>\n",
       "      <td>0</td>\n",
       "    </tr>\n",
       "    <tr>\n",
       "      <th>4</th>\n",
       "      <td>7596</td>\n",
       "      <td>Finian Cunningham has written extensively on...</td>\n",
       "      <td>1</td>\n",
       "    </tr>\n",
       "    <tr>\n",
       "      <th>...</th>\n",
       "      <td>...</td>\n",
       "      <td>...</td>\n",
       "      <td>...</td>\n",
       "    </tr>\n",
       "    <tr>\n",
       "      <th>20795</th>\n",
       "      <td>5671</td>\n",
       "      <td>No, you'll be a dog licking of the vomit of yo...</td>\n",
       "      <td>1</td>\n",
       "    </tr>\n",
       "    <tr>\n",
       "      <th>20796</th>\n",
       "      <td>14831</td>\n",
       "      <td>By Rixon Stewart on November 5, 2016 Rixon Ste...</td>\n",
       "      <td>1</td>\n",
       "    </tr>\n",
       "    <tr>\n",
       "      <th>20797</th>\n",
       "      <td>18142</td>\n",
       "      <td>posted by Eddie You know the Dakota Access Pip...</td>\n",
       "      <td>1</td>\n",
       "    </tr>\n",
       "    <tr>\n",
       "      <th>20798</th>\n",
       "      <td>12139</td>\n",
       "      <td>It’s officially summer, and the Society Boutiq...</td>\n",
       "      <td>0</td>\n",
       "    </tr>\n",
       "    <tr>\n",
       "      <th>20799</th>\n",
       "      <td>15660</td>\n",
       "      <td>Emory University in Atlanta, Georgia, has anno...</td>\n",
       "      <td>0</td>\n",
       "    </tr>\n",
       "  </tbody>\n",
       "</table>\n",
       "<p>20761 rows × 3 columns</p>\n",
       "</div>"
      ],
      "text/plain": [
       "          id                                               news  label\n",
       "0       9653  WASHINGTON  —   In Sonny Perdue’s telling, Geo...      0\n",
       "1      10041  HOUSTON  —   Venezuela had a plan. It was a ta...      0\n",
       "2      19113  Sunday on ABC’s “This Week,” while discussing ...      0\n",
       "3       6868  AUGUSTA, Me.  —   The beleaguered Republican g...      0\n",
       "4       7596    Finian Cunningham has written extensively on...      1\n",
       "...      ...                                                ...    ...\n",
       "20795   5671  No, you'll be a dog licking of the vomit of yo...      1\n",
       "20796  14831  By Rixon Stewart on November 5, 2016 Rixon Ste...      1\n",
       "20797  18142  posted by Eddie You know the Dakota Access Pip...      1\n",
       "20798  12139  It’s officially summer, and the Society Boutiq...      0\n",
       "20799  15660  Emory University in Atlanta, Georgia, has anno...      0\n",
       "\n",
       "[20761 rows x 3 columns]"
      ]
     },
     "execution_count": 14,
     "metadata": {},
     "output_type": "execute_result"
    }
   ],
   "source": [
    "# dropping rows having null values\n",
    "train_data=train_data.dropna()\n",
    "train_data"
   ]
  },
  {
   "cell_type": "markdown",
   "metadata": {},
   "source": [
    "# Data Preprocessing "
   ]
  },
  {
   "cell_type": "code",
   "execution_count": 15,
   "metadata": {},
   "outputs": [],
   "source": [
    "import re\n",
    "import nltk\n",
    "from nltk.tokenize import word_tokenize\n",
    "from nltk.corpus import stopwords\n",
    "from nltk.stem import WordNetLemmatizer"
   ]
  },
  {
   "cell_type": "code",
   "execution_count": 16,
   "metadata": {},
   "outputs": [],
   "source": [
    "stop_words=set(stopwords.words('english'))\n",
    "lemma=WordNetLemmatizer()"
   ]
  },
  {
   "cell_type": "code",
   "execution_count": 17,
   "metadata": {},
   "outputs": [],
   "source": [
    "def clean_news(news_text):\n",
    "    news_text=re.sub(r'http\\$+','',news_text) # removing the url\n",
    "    news_text=re.sub('[^a-zA-Z]',' ',news_text) #removing Numbers and punctuation\n",
    "    news_text=str(news_text).lower().replace('\\\\','').replace('_',' ') #converting all to lower case\n",
    "    news_text=word_tokenize(news_text) #tokenization\n",
    "    news_text=[item for item in news_text if item not in stop_words] # removing stop words\n",
    "    news_text=[lemma.lemmatize(word=w,pos='v') for w in news_text] #lemmatization\n",
    "    news_text=[i for i in news_text if len(i)>=2] # removing the words having length <2\n",
    "    return news_text"
   ]
  },
  {
   "cell_type": "code",
   "execution_count": 18,
   "metadata": {},
   "outputs": [],
   "source": [
    "train_data['news']=train_data[\"news\"].apply(lambda x:clean_news(x)) # preprocessing the reviews for further data modelling "
   ]
  },
  {
   "cell_type": "code",
   "execution_count": 19,
   "metadata": {},
   "outputs": [
    {
     "data": {
      "text/html": [
       "<div>\n",
       "<style scoped>\n",
       "    .dataframe tbody tr th:only-of-type {\n",
       "        vertical-align: middle;\n",
       "    }\n",
       "\n",
       "    .dataframe tbody tr th {\n",
       "        vertical-align: top;\n",
       "    }\n",
       "\n",
       "    .dataframe thead th {\n",
       "        text-align: right;\n",
       "    }\n",
       "</style>\n",
       "<table border=\"1\" class=\"dataframe\">\n",
       "  <thead>\n",
       "    <tr style=\"text-align: right;\">\n",
       "      <th></th>\n",
       "      <th>id</th>\n",
       "      <th>news</th>\n",
       "      <th>label</th>\n",
       "    </tr>\n",
       "  </thead>\n",
       "  <tbody>\n",
       "    <tr>\n",
       "      <th>0</th>\n",
       "      <td>9653</td>\n",
       "      <td>washington sonny perdue tell georgians grow we...</td>\n",
       "      <td>0</td>\n",
       "    </tr>\n",
       "    <tr>\n",
       "      <th>1</th>\n",
       "      <td>10041</td>\n",
       "      <td>houston venezuela plan tactical approach desig...</td>\n",
       "      <td>0</td>\n",
       "    </tr>\n",
       "    <tr>\n",
       "      <th>2</th>\n",
       "      <td>19113</td>\n",
       "      <td>sunday abc week discuss republican plan repeal...</td>\n",
       "      <td>0</td>\n",
       "    </tr>\n",
       "    <tr>\n",
       "      <th>3</th>\n",
       "      <td>6868</td>\n",
       "      <td>augusta beleaguer republican governor maine se...</td>\n",
       "      <td>0</td>\n",
       "    </tr>\n",
       "    <tr>\n",
       "      <th>4</th>\n",
       "      <td>7596</td>\n",
       "      <td>finian cunningham write extensively internatio...</td>\n",
       "      <td>1</td>\n",
       "    </tr>\n",
       "    <tr>\n",
       "      <th>...</th>\n",
       "      <td>...</td>\n",
       "      <td>...</td>\n",
       "      <td>...</td>\n",
       "    </tr>\n",
       "    <tr>\n",
       "      <th>20795</th>\n",
       "      <td>5671</td>\n",
       "      <td>dog lick vomit chinese overlords</td>\n",
       "      <td>1</td>\n",
       "    </tr>\n",
       "    <tr>\n",
       "      <th>20796</th>\n",
       "      <td>14831</td>\n",
       "      <td>rixon stewart november rixon stewart nov migra...</td>\n",
       "      <td>1</td>\n",
       "    </tr>\n",
       "    <tr>\n",
       "      <th>20797</th>\n",
       "      <td>18142</td>\n",
       "      <td>post eddie know dakota access pipeline protest...</td>\n",
       "      <td>1</td>\n",
       "    </tr>\n",
       "    <tr>\n",
       "      <th>20798</th>\n",
       "      <td>12139</td>\n",
       "      <td>officially summer society boutique society mem...</td>\n",
       "      <td>0</td>\n",
       "    </tr>\n",
       "    <tr>\n",
       "      <th>20799</th>\n",
       "      <td>15660</td>\n",
       "      <td>emory university atlanta georgia announce fund...</td>\n",
       "      <td>0</td>\n",
       "    </tr>\n",
       "  </tbody>\n",
       "</table>\n",
       "<p>20761 rows × 3 columns</p>\n",
       "</div>"
      ],
      "text/plain": [
       "          id                                               news  label\n",
       "0       9653  washington sonny perdue tell georgians grow we...      0\n",
       "1      10041  houston venezuela plan tactical approach desig...      0\n",
       "2      19113  sunday abc week discuss republican plan repeal...      0\n",
       "3       6868  augusta beleaguer republican governor maine se...      0\n",
       "4       7596  finian cunningham write extensively internatio...      1\n",
       "...      ...                                                ...    ...\n",
       "20795   5671                   dog lick vomit chinese overlords      1\n",
       "20796  14831  rixon stewart november rixon stewart nov migra...      1\n",
       "20797  18142  post eddie know dakota access pipeline protest...      1\n",
       "20798  12139  officially summer society boutique society mem...      0\n",
       "20799  15660  emory university atlanta georgia announce fund...      0\n",
       "\n",
       "[20761 rows x 3 columns]"
      ]
     },
     "execution_count": 19,
     "metadata": {},
     "output_type": "execute_result"
    }
   ],
   "source": [
    "train_data['news']=[\" \".join(news_text) for news_text in train_data['news'].values] # converting list to string\n",
    "train_data"
   ]
  },
  {
   "cell_type": "code",
   "execution_count": 20,
   "metadata": {},
   "outputs": [
    {
     "data": {
      "text/plain": [
       "'washington sonny perdue tell georgians grow weary corruption scandals state take governor time give version drain swamp pledge first goal governor restore public trust state government change culture state government mr perdue tell leadership conference kennesaw state university april form government depend mutual bond trust people government people become cynical government mr perdue republican await confirmation serve president trump agriculture secretary become target frequent criticism fail honor ethics pledge eight years governor criticism center fact mr trump continue help run family business venture four company serve governor mr perdue one last cabinet members await senate confirmation date set confirmation hear holdup release paperwork accompany nomination federal office government ethics blame delay office must examine mr perdue proposal avoid conflict interest run department know may include sell farm assets tenure governor end complaints file mr perdue state ethics commission two occasion rule governor violate state ethics laws commission take unusual step fin mr perdue governor numerous question include role mr perdue personal lawyer also state legislator push bill legislature include special provision give mr perdue state tax relief tenure governor come close mr perdue meet georgia officials oversee state port discuss use terminal family business accord document obtain atlanta soon leave office fact open new company specialize export products savannah public official suppose act entirely behalf public say yasha heidari former senior legal counsel state ethics commission look record attorney citizen state serious concern write statement spokeswoman mr perdue reject assessment say frequent criticism face governor largely politically motivate republican governor georgia years statement say governor perdue david slew democrats goliath wait mr perdue confirmation hear farm industry come defense think go find man honorable sonny perdue say zippy duvall georgia cattle poultry farmer president american farm bureau federation add know mr perdue decade ethical come bear family farmers mr perdue play college football university georgia later work briefly practice veterinarian rise rank state legislature late switch party affiliation democrat republican say state party lose focus family value one mr perdue first act swear governor january sign executive order establish new code ethics executive branch employees order apply governor prohibit state employees use power financial personal benefit bar take gift worth carry official duties obligations officer employees state government must work solely public good strive vigilantly avoid even appearance action motivate private personal interest executive order say mr perdue end collect least worth benefit gift years governor state record show gift range ticket nascar race football game flight pay altria tobacco company csx railroad giant accord report citizens responsibility ethics washington liberal nonprofit group mr perdue spokeswoman write statement say none gift violate ban trip official state business perfectly acceptable save taxpayer fund gift state statement read governor fine state ethics commission come commission conclude mr perdue fail properly report use airplane own one family businesses trip commission also find take campaign contributions amount exceed state limit several donors include political action committee run suntrust bank mr perdue call violations technical investigation politically motivate teddy lee executive secretary state ethics commission fire job january interview blame mr perdue fire mr lee serve job four governors look like political hit mr lee say mr lee dismissal come mr perdue seek months largest scandal emerge state tax break receive thank legislative maneuver engineer lawmaker also personal lawyer focus controversy piece property florida mr perdue purchase purchase allow defer pay federal capital gain tax separate piece georgia land previously sell profit transaction complete mr perdue still owe georgia state tax mr perdue sign bill follow year eliminate state tax obligation state law change allow rollover relief capital gain even new property purchase state deliberations legislation larry neal member georgia house representatives also work part time personal lawyer mr perdue intervene make change provision retroactive mean would cover mr perdue land deal save governor report time mr perdue spokeswoman say change state law intend benefit mr perdue benefit georgians statement say scott faber environmental work group nonprofit organization keep close watch policies agriculture department say question mr perdue fitness take department give record conflict interest governor georgia fair ask fit run federal agency mr faber say mr duvall american farm bureau federation believe opposite mr duvall say former farmer mr perdue nation need run department work farm own businesses buy sell grain domestically internationally mr duvall say ought requirement someone run know something farm sonny certainly'"
      ]
     },
     "execution_count": 20,
     "metadata": {},
     "output_type": "execute_result"
    }
   ],
   "source": [
    "train_data[\"news\"][0]"
   ]
  },
  {
   "cell_type": "code",
   "execution_count": 21,
   "metadata": {},
   "outputs": [
    {
     "data": {
      "text/plain": [
       "0    10387\n",
       "1    10374\n",
       "Name: label, dtype: int64"
      ]
     },
     "execution_count": 21,
     "metadata": {},
     "output_type": "execute_result"
    }
   ],
   "source": [
    "train_data.label.value_counts()"
   ]
  },
  {
   "cell_type": "markdown",
   "metadata": {},
   "source": [
    "# Data Visualization\n",
    "\n",
    "Univariate Analysis\n"
   ]
  },
  {
   "cell_type": "code",
   "execution_count": 26,
   "metadata": {},
   "outputs": [
    {
     "data": {
      "image/png": "[encoded data removed]",
      "text/plain": [
       "<Figure size 432x288 with 1 Axes>"
      ]
     },
     "metadata": {
      "needs_background": "light"
     },
     "output_type": "display_data"
    }
   ],
   "source": [
    "plt.figure(figsize=(6,4))\n",
    "sns.countplot(train_data['label'])\n",
    "plt.title(\"No of occurence of news \\n Fake -1.    Not fake -0\")\n",
    "plt.show()"
   ]
  },
  {
   "cell_type": "markdown",
   "metadata": {},
   "source": [
    "### Above countplot shows the label values are equal i.e count of fake and not fake values are almost equal."
   ]
  },
  {
   "cell_type": "code",
   "execution_count": 43,
   "metadata": {},
   "outputs": [
    {
     "data": {
      "image/png": "[encoded data removed]",
      "text/plain": [
       "<Figure size 1152x504 with 1 Axes>"
      ]
     },
     "metadata": {
      "needs_background": "light"
     },
     "output_type": "display_data"
    }
   ],
   "source": [
    "plt.figure(figsize=(16,7))\n",
    "sns.distplot(train_data['label'],kde=False,bins=30)\n",
    "plt.title('No of occurence of news \\n Fake -1.    Not fake -0' )\n",
    "plt.show()"
   ]
  },
  {
   "cell_type": "code",
   "execution_count": 31,
   "metadata": {},
   "outputs": [],
   "source": [
    "from wordcloud import wordcloud\n",
    "from PIL import Image\n",
    "from wordcloud import WordCloud,STOPWORDS,ImageColorGenerator\n",
    "from nltk.corpus import stopwords"
   ]
  },
  {
   "cell_type": "code",
   "execution_count": 32,
   "metadata": {},
   "outputs": [],
   "source": [
    "def wordcloud(data,label):\n",
    "    subset=data[data[label]==1]\n",
    "    text=subset.news.values\n",
    "    wc=WordCloud(background_color='black',max_words=4000)\n",
    "    \n",
    "    wc.generate(\" \".join(text))\n",
    "    \n",
    "    plt.figure(figsize=(20,20))\n",
    "    plt.subplot(221)\n",
    "    plt.axis(\"off\")\n",
    "    plt.imshow(wc.recolor(colormap='gist_earth',random_state=244),alpha=0.98)"
   ]
  },
  {
   "cell_type": "code",
   "execution_count": 34,
   "metadata": {},
   "outputs": [
    {
     "data": {
      "image/png": "[encoded data removed]",
      "text/plain": [
       "<Figure size 1440x1440 with 1 Axes>"
      ]
     },
     "metadata": {
      "needs_background": "light"
     },
     "output_type": "display_data"
    }
   ],
   "source": [
    "wordcloud(train_data,\"label\")"
   ]
  },
  {
   "cell_type": "markdown",
   "metadata": {},
   "source": [
    "## Above wordcloud shows the words frequently used in news feature. \n"
   ]
  },
  {
   "cell_type": "markdown",
   "metadata": {},
   "source": [
    "### Encoding text into vectors for further model training"
   ]
  },
  {
   "cell_type": "code",
   "execution_count": 25,
   "metadata": {},
   "outputs": [],
   "source": [
    "from sklearn.feature_extraction.text import TfidfVectorizer\n",
    "tfid=TfidfVectorizer(smooth_idf=False,max_features=20000,ngram_range=(1,3),analyzer='word')\n",
    "X=tfid.fit_transform(train_data[\"news\"])\n",
    "y=train_data[\"label\"]"
   ]
  },
  {
   "cell_type": "code",
   "execution_count": 26,
   "metadata": {},
   "outputs": [
    {
     "data": {
      "text/plain": [
       "(20761, 20000)"
      ]
     },
     "execution_count": 26,
     "metadata": {},
     "output_type": "execute_result"
    }
   ],
   "source": [
    "X.shape"
   ]
  },
  {
   "cell_type": "code",
   "execution_count": 27,
   "metadata": {},
   "outputs": [
    {
     "data": {
      "text/plain": [
       "(20761,)"
      ]
     },
     "execution_count": 27,
     "metadata": {},
     "output_type": "execute_result"
    }
   ],
   "source": [
    "y.shape"
   ]
  },
  {
   "cell_type": "markdown",
   "metadata": {},
   "source": [
    "# Data Balancing\n",
    "#### Label has equal distribution in 0 and 1 . which shows data is quite balanced . so no need to do data balancing "
   ]
  },
  {
   "cell_type": "markdown",
   "metadata": {},
   "source": [
    "# Data Modelling\n"
   ]
  },
  {
   "cell_type": "code",
   "execution_count": 28,
   "metadata": {},
   "outputs": [],
   "source": [
    "#importing the model training libraries\n",
    "from sklearn.model_selection import train_test_split\n",
    "from sklearn.naive_bayes import MultinomialNB\n",
    "from sklearn.linear_model import LogisticRegression\n",
    "from sklearn.svm import LinearSVC\n",
    "from sklearn.ensemble import RandomForestClassifier\n",
    "from sklearn.tree import DecisionTreeClassifier\n",
    "from sklearn.neighbors import KNeighborsClassifier"
   ]
  },
  {
   "cell_type": "code",
   "execution_count": 29,
   "metadata": {},
   "outputs": [],
   "source": [
    "from sklearn.metrics import accuracy_score,confusion_matrix,classification_report\n",
    "import warnings\n",
    "warnings.filterwarnings('ignore')"
   ]
  },
  {
   "cell_type": "code",
   "execution_count": 30,
   "metadata": {},
   "outputs": [],
   "source": [
    "x_train,x_test,y_train,y_test=train_test_split(X,y,test_size=.22,random_state=42)"
   ]
  },
  {
   "cell_type": "code",
   "execution_count": 31,
   "metadata": {},
   "outputs": [
    {
     "name": "stdout",
     "output_type": "stream",
     "text": [
      "Accuracy score of  LogisticRegression() is  0.9516199649737302\n",
      "confusion matrix of  LogisticRegression() is \n",
      " [[2165  126]\n",
      " [  95 2182]]\n",
      "classification report of  LogisticRegression() is \n",
      "               precision    recall  f1-score   support\n",
      "\n",
      "           0       0.96      0.95      0.95      2291\n",
      "           1       0.95      0.96      0.95      2277\n",
      "\n",
      "    accuracy                           0.95      4568\n",
      "   macro avg       0.95      0.95      0.95      4568\n",
      "weighted avg       0.95      0.95      0.95      4568\n",
      "\n",
      "**********************************************************************\n",
      "\n",
      "Accuracy score of  MultinomialNB() is  0.9271015761821366\n",
      "confusion matrix of  MultinomialNB() is \n",
      " [[2172  119]\n",
      " [ 214 2063]]\n",
      "classification report of  MultinomialNB() is \n",
      "               precision    recall  f1-score   support\n",
      "\n",
      "           0       0.91      0.95      0.93      2291\n",
      "           1       0.95      0.91      0.93      2277\n",
      "\n",
      "    accuracy                           0.93      4568\n",
      "   macro avg       0.93      0.93      0.93      4568\n",
      "weighted avg       0.93      0.93      0.93      4568\n",
      "\n",
      "**********************************************************************\n",
      "\n",
      "Accuracy score of  LinearSVC() is  0.9649737302977233\n",
      "confusion matrix of  LinearSVC() is \n",
      " [[2196   95]\n",
      " [  65 2212]]\n",
      "classification report of  LinearSVC() is \n",
      "               precision    recall  f1-score   support\n",
      "\n",
      "           0       0.97      0.96      0.96      2291\n",
      "           1       0.96      0.97      0.97      2277\n",
      "\n",
      "    accuracy                           0.96      4568\n",
      "   macro avg       0.97      0.96      0.96      4568\n",
      "weighted avg       0.97      0.96      0.96      4568\n",
      "\n",
      "**********************************************************************\n",
      "\n",
      "Accuracy score of  DecisionTreeClassifier() is  0.8879159369527145\n",
      "confusion matrix of  DecisionTreeClassifier() is \n",
      " [[2024  267]\n",
      " [ 245 2032]]\n",
      "classification report of  DecisionTreeClassifier() is \n",
      "               precision    recall  f1-score   support\n",
      "\n",
      "           0       0.89      0.88      0.89      2291\n",
      "           1       0.88      0.89      0.89      2277\n",
      "\n",
      "    accuracy                           0.89      4568\n",
      "   macro avg       0.89      0.89      0.89      4568\n",
      "weighted avg       0.89      0.89      0.89      4568\n",
      "\n",
      "**********************************************************************\n",
      "\n",
      "Accuracy score of  RandomForestClassifier() is  0.9511821366024519\n",
      "confusion matrix of  RandomForestClassifier() is \n",
      " [[2184  107]\n",
      " [ 116 2161]]\n",
      "classification report of  RandomForestClassifier() is \n",
      "               precision    recall  f1-score   support\n",
      "\n",
      "           0       0.95      0.95      0.95      2291\n",
      "           1       0.95      0.95      0.95      2277\n",
      "\n",
      "    accuracy                           0.95      4568\n",
      "   macro avg       0.95      0.95      0.95      4568\n",
      "weighted avg       0.95      0.95      0.95      4568\n",
      "\n",
      "**********************************************************************\n",
      "\n",
      "Accuracy score of  KNeighborsClassifier() is  0.5886602451838879\n",
      "confusion matrix of  KNeighborsClassifier() is \n",
      " [[ 417 1874]\n",
      " [   5 2272]]\n",
      "classification report of  KNeighborsClassifier() is \n",
      "               precision    recall  f1-score   support\n",
      "\n",
      "           0       0.99      0.18      0.31      2291\n",
      "           1       0.55      1.00      0.71      2277\n",
      "\n",
      "    accuracy                           0.59      4568\n",
      "   macro avg       0.77      0.59      0.51      4568\n",
      "weighted avg       0.77      0.59      0.51      4568\n",
      "\n",
      "**********************************************************************\n",
      "\n"
     ]
    }
   ],
   "source": [
    "#using algorithms in for loops\n",
    "model=[LogisticRegression(),MultinomialNB(),LinearSVC(),DecisionTreeClassifier(),RandomForestClassifier(),KNeighborsClassifier()]\n",
    "for m in model:\n",
    "    m.fit(x_train,y_train)\n",
    "    y_pred=m.predict(x_test)\n",
    "    print(\"Accuracy score of \" , m , \"is \" , accuracy_score(y_test,y_pred))\n",
    "    print(\"confusion matrix of \" , m , \"is \\n\",confusion_matrix(y_test,y_pred))\n",
    "    print(\"classification report of \" , m, \"is \\n\",classification_report(y_test,y_pred))\n",
    "    print(\"**********************************************************************\\n\")"
   ]
  },
  {
   "cell_type": "markdown",
   "metadata": {},
   "source": [
    "## Hyperparameter tuning using GridSearchCv"
   ]
  },
  {
   "cell_type": "code",
   "execution_count": 44,
   "metadata": {},
   "outputs": [],
   "source": [
    "# LinearSVC is best performing model so finding its best parameter\n",
    "from sklearn.model_selection import GridSearchCV"
   ]
  },
  {
   "cell_type": "code",
   "execution_count": 34,
   "metadata": {},
   "outputs": [
    {
     "name": "stdout",
     "output_type": "stream",
     "text": [
      "Fitting 5 folds for each of 4 candidates, totalling 20 fits\n"
     ]
    },
    {
     "name": "stderr",
     "output_type": "stream",
     "text": [
      "[Parallel(n_jobs=-1)]: Using backend LokyBackend with 4 concurrent workers.\n",
      "[Parallel(n_jobs=-1)]: Done  10 tasks      | elapsed:    6.1s\n",
      "[Parallel(n_jobs=-1)]: Done  18 out of  20 | elapsed:    9.9s remaining:    1.1s\n",
      "[Parallel(n_jobs=-1)]: Done  20 out of  20 | elapsed:   10.7s finished\n"
     ]
    },
    {
     "name": "stdout",
     "output_type": "stream",
     "text": [
      "Train Accuracy : 0.999\n",
      "Test Accuracy : 0.965\n",
      "Best Accuracy Through Grid Search : 0.962\n",
      "Best Parameters :  {'C': 1.0}\n"
     ]
    }
   ],
   "source": [
    "params = {\n",
    "            'C': [0.1, 0.5, 1.0, 10.0],\n",
    "         }\n",
    "\n",
    "linear_svc_grid = GridSearchCV(LinearSVC(random_state=1, max_iter=1000000), param_grid=params, n_jobs=-1, cv=5, verbose=5)\n",
    "linear_svc_grid.fit(x_train,y_train)\n",
    "\n",
    "print('Train Accuracy : %.3f'%linear_svc_grid.best_estimator_.score(x_train, y_train))\n",
    "print('Test Accuracy : %.3f'%linear_svc_grid.best_estimator_.score(x_test, y_test))\n",
    "print('Best Accuracy Through Grid Search : %.3f'%linear_svc_grid.best_score_)\n",
    "print('Best Parameters : ',linear_svc_grid.best_params_)"
   ]
  },
  {
   "cell_type": "markdown",
   "metadata": {},
   "source": [
    "### LinearSVC is performing better with accuracy 90 % and its precision and f1 score are also better than other models . "
   ]
  },
  {
   "cell_type": "code",
   "execution_count": 35,
   "metadata": {},
   "outputs": [
    {
     "name": "stdout",
     "output_type": "stream",
     "text": [
      "Fitting 5 folds for each of 4 candidates, totalling 20 fits\n"
     ]
    },
    {
     "name": "stderr",
     "output_type": "stream",
     "text": [
      "[Parallel(n_jobs=-1)]: Using backend LokyBackend with 4 concurrent workers.\n",
      "[Parallel(n_jobs=-1)]: Done  10 tasks      | elapsed:    2.4s\n",
      "[Parallel(n_jobs=-1)]: Done  18 out of  20 | elapsed:    6.1s remaining:    0.7s\n",
      "[Parallel(n_jobs=-1)]: Done  20 out of  20 | elapsed:    7.1s finished\n"
     ]
    },
    {
     "name": "stdout",
     "output_type": "stream",
     "text": [
      "Fitting 5 folds for each of 4 candidates, totalling 20 fits\n"
     ]
    },
    {
     "name": "stderr",
     "output_type": "stream",
     "text": [
      "[Parallel(n_jobs=-1)]: Using backend LokyBackend with 4 concurrent workers.\n",
      "[Parallel(n_jobs=-1)]: Done  10 tasks      | elapsed:    2.0s\n",
      "[Parallel(n_jobs=-1)]: Done  18 out of  20 | elapsed:    6.2s remaining:    0.7s\n",
      "[Parallel(n_jobs=-1)]: Done  20 out of  20 | elapsed:    7.3s finished\n"
     ]
    },
    {
     "name": "stdout",
     "output_type": "stream",
     "text": [
      "Fitting 5 folds for each of 4 candidates, totalling 20 fits\n"
     ]
    },
    {
     "name": "stderr",
     "output_type": "stream",
     "text": [
      "[Parallel(n_jobs=-1)]: Using backend LokyBackend with 4 concurrent workers.\n",
      "[Parallel(n_jobs=-1)]: Done  10 tasks      | elapsed:    2.1s\n",
      "[Parallel(n_jobs=-1)]: Done  18 out of  20 | elapsed:    5.7s remaining:    0.6s\n",
      "[Parallel(n_jobs=-1)]: Done  20 out of  20 | elapsed:    6.7s finished\n"
     ]
    },
    {
     "name": "stdout",
     "output_type": "stream",
     "text": [
      "Fitting 5 folds for each of 4 candidates, totalling 20 fits\n"
     ]
    },
    {
     "name": "stderr",
     "output_type": "stream",
     "text": [
      "[Parallel(n_jobs=-1)]: Using backend LokyBackend with 4 concurrent workers.\n",
      "[Parallel(n_jobs=-1)]: Done  10 tasks      | elapsed:    2.2s\n",
      "[Parallel(n_jobs=-1)]: Done  18 out of  20 | elapsed:    6.2s remaining:    0.7s\n",
      "[Parallel(n_jobs=-1)]: Done  20 out of  20 | elapsed:    7.3s finished\n"
     ]
    },
    {
     "name": "stdout",
     "output_type": "stream",
     "text": [
      "Fitting 5 folds for each of 4 candidates, totalling 20 fits\n"
     ]
    },
    {
     "name": "stderr",
     "output_type": "stream",
     "text": [
      "[Parallel(n_jobs=-1)]: Using backend LokyBackend with 4 concurrent workers.\n",
      "[Parallel(n_jobs=-1)]: Done  10 tasks      | elapsed:    2.0s\n",
      "[Parallel(n_jobs=-1)]: Done  18 out of  20 | elapsed:    5.6s remaining:    0.6s\n",
      "[Parallel(n_jobs=-1)]: Done  20 out of  20 | elapsed:    6.8s finished\n"
     ]
    },
    {
     "name": "stdout",
     "output_type": "stream",
     "text": [
      "Cross Validation Score :  [0.96580785 0.96387283 0.96989403 0.96531792 0.96579961] \n",
      "\n",
      "Mean 0.9661384485621509\n",
      "Standard Deviation 0.002006726617404872\n"
     ]
    }
   ],
   "source": [
    "# cross validating LinearSVC\n",
    "from sklearn.model_selection import cross_val_score\n",
    "\n",
    "score=cross_val_score(linear_svc_grid,X,y,cv=5,scoring='accuracy')\n",
    "print(\"Cross Validation Score : \", score,\"\\n\")\n",
    "print(\"Mean\" , score.mean())\n",
    "print(\"Standard Deviation\" , score.std())"
   ]
  },
  {
   "cell_type": "code",
   "execution_count": 39,
   "metadata": {},
   "outputs": [],
   "source": [
    "pred=linear_svc_grid.predict(x_test)"
   ]
  },
  {
   "cell_type": "markdown",
   "metadata": {},
   "source": [
    "# Saving the model- Serialization"
   ]
  },
  {
   "cell_type": "code",
   "execution_count": 40,
   "metadata": {},
   "outputs": [
    {
     "name": "stdout",
     "output_type": "stream",
     "text": [
      "[1 1 0 ... 0 1 0] \t [1 1 1 ... 1 1 1]\n"
     ]
    }
   ],
   "source": [
    "print(pred,'\\t',y_pred)"
   ]
  },
  {
   "cell_type": "code",
   "execution_count": 41,
   "metadata": {},
   "outputs": [],
   "source": [
    "# saving the prediction model\n",
    "\n",
    "import pickle\n",
    "filename=\"fakenews.pkl\"\n",
    "pickle.dump(linear_svc_grid,open(filename,'wb'))"
   ]
  },
  {
   "cell_type": "code",
   "execution_count": 42,
   "metadata": {},
   "outputs": [
    {
     "data": {
      "text/html": [
       "<div>\n",
       "<style scoped>\n",
       "    .dataframe tbody tr th:only-of-type {\n",
       "        vertical-align: middle;\n",
       "    }\n",
       "\n",
       "    .dataframe tbody tr th {\n",
       "        vertical-align: top;\n",
       "    }\n",
       "\n",
       "    .dataframe thead th {\n",
       "        text-align: right;\n",
       "    }\n",
       "</style>\n",
       "<table border=\"1\" class=\"dataframe\">\n",
       "  <thead>\n",
       "    <tr style=\"text-align: right;\">\n",
       "      <th></th>\n",
       "      <th>label</th>\n",
       "    </tr>\n",
       "  </thead>\n",
       "  <tbody>\n",
       "    <tr>\n",
       "      <th>0</th>\n",
       "      <td>1</td>\n",
       "    </tr>\n",
       "    <tr>\n",
       "      <th>1</th>\n",
       "      <td>1</td>\n",
       "    </tr>\n",
       "    <tr>\n",
       "      <th>2</th>\n",
       "      <td>0</td>\n",
       "    </tr>\n",
       "    <tr>\n",
       "      <th>3</th>\n",
       "      <td>1</td>\n",
       "    </tr>\n",
       "    <tr>\n",
       "      <th>4</th>\n",
       "      <td>0</td>\n",
       "    </tr>\n",
       "    <tr>\n",
       "      <th>...</th>\n",
       "      <td>...</td>\n",
       "    </tr>\n",
       "    <tr>\n",
       "      <th>4563</th>\n",
       "      <td>1</td>\n",
       "    </tr>\n",
       "    <tr>\n",
       "      <th>4564</th>\n",
       "      <td>0</td>\n",
       "    </tr>\n",
       "    <tr>\n",
       "      <th>4565</th>\n",
       "      <td>0</td>\n",
       "    </tr>\n",
       "    <tr>\n",
       "      <th>4566</th>\n",
       "      <td>1</td>\n",
       "    </tr>\n",
       "    <tr>\n",
       "      <th>4567</th>\n",
       "      <td>0</td>\n",
       "    </tr>\n",
       "  </tbody>\n",
       "</table>\n",
       "<p>4568 rows × 1 columns</p>\n",
       "</div>"
      ],
      "text/plain": [
       "      label\n",
       "0         1\n",
       "1         1\n",
       "2         0\n",
       "3         1\n",
       "4         0\n",
       "...     ...\n",
       "4563      1\n",
       "4564      0\n",
       "4565      0\n",
       "4566      1\n",
       "4567      0\n",
       "\n",
       "[4568 rows x 1 columns]"
      ]
     },
     "execution_count": 42,
     "metadata": {},
     "output_type": "execute_result"
    }
   ],
   "source": [
    "ds_pred=pd.DataFrame(data=pred,columns=['label'])\n",
    "ds_pred"
   ]
  },
  {
   "cell_type": "code",
   "execution_count": null,
   "metadata": {},
   "outputs": [],
   "source": []
  }
 ],
 "metadata": {
  "kernelspec": {
   "display_name": "Python 3",
   "language": "python",
   "name": "python3"
  },
  "language_info": {
   "codemirror_mode": {
    "name": "ipython",
    "version": 3
   },
   "file_extension": ".py",
   "mimetype": "text/x-python",
   "name": "python",
   "nbconvert_exporter": "python",
   "pygments_lexer": "ipython3",
   "version": "3.8.5"
  }
 },
 "nbformat": 4,
 "nbformat_minor": 4
}
